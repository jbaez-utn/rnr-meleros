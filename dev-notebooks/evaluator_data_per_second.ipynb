{
 "cells": [
  {
   "cell_type": "markdown",
   "metadata": {},
   "source": [
    "# Evaluador de modelos\n",
    "\n",
    "1. Cargar modelo preexistente.\n",
    "2. Cargar datos para evaluacion del modelo.\n",
    "3. Evaluar modelo sobre los diferentes datasets\n",
    "4. Generar informe de performance para el modelo elegido sobre los diferentes datasets ingresados"
   ]
  },
  {
   "cell_type": "code",
   "execution_count": null,
   "metadata": {
    "vscode": {
     "languageId": "plaintext"
    }
   },
   "outputs": [],
   "source": []
  }
 ],
 "metadata": {
  "language_info": {
   "name": "python"
  }
 },
 "nbformat": 4,
 "nbformat_minor": 2
}

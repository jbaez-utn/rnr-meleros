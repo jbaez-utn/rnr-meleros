{
 "cells": [
  {
   "cell_type": "markdown",
   "metadata": {},
   "source": [
    "# EDA - Analisis exploratorio de datos\n",
    "\n",
    "- Analisis de dataset originales\n",
    "- Preprocesamiento\n",
    "    - Limpieza de dataset\n",
    "    - Armado de datasets para entrenamiento\n",
    "        - Muestras totales (unitarias, por segundo y por minuto)\n",
    "        - Muestras por especimen (unitarias, por segundo y por minuto)\n",
    "- Analisis de datasets resultantes"
   ]
  },
  {
   "cell_type": "code",
   "execution_count": 32,
   "metadata": {},
   "outputs": [],
   "source": [
    "# Imports\n",
    "\n",
    "import pandas as pd\n",
    "import numpy as np\n",
    "import seaborn as sns\n",
    "import matplotlib.pyplot as plt"
   ]
  },
  {
   "cell_type": "markdown",
   "metadata": {},
   "source": [
    "Dependiendo del kernel de python que estemos usando, esta bueno chequear si estamos corriendo en la maquina local, el contenedor de docker con jupyter u otro server remoto. "
   ]
  },
  {
   "cell_type": "code",
   "execution_count": 6,
   "metadata": {},
   "outputs": [
    {
     "name": "stdout",
     "output_type": "stream",
     "text": [
      "jovyan\n",
      "/home/jovyan/meleros/notebooks\n"
     ]
    }
   ],
   "source": [
    "!whoami\n",
    "!pwd"
   ]
  },
  {
   "cell_type": "markdown",
   "metadata": {},
   "source": [
    "Si estamos corriendo con el contenedor que se crea con este repo, tenemos que movernos a la ubicación del repo, en este caso usando el comando magico %cd."
   ]
  },
  {
   "cell_type": "code",
   "execution_count": 7,
   "metadata": {},
   "outputs": [
    {
     "name": "stdout",
     "output_type": "stream",
     "text": [
      "[Errno 2] No such file or directory: 'meleros/notebooks/'\n",
      "/home/jovyan/meleros/notebooks\n"
     ]
    }
   ],
   "source": [
    "%cd meleros/notebooks/"
   ]
  },
  {
   "cell_type": "markdown",
   "metadata": {},
   "source": [
    "## Lectura de datasets originales\n",
    "\n",
    "Partimos de 2 datasets originales, primero vamos a revisar la forma de ambos programaticamente:\n",
    "- Head: primeras lineas\n",
    "- Shape: Tamaño del dataframe"
   ]
  },
  {
   "cell_type": "code",
   "execution_count": 8,
   "metadata": {},
   "outputs": [],
   "source": [
    "dataset1_path = \"../data/0-cruda/estudio3.csv\"\n",
    "dataset1_crudo_dataframe = pd.read_csv(dataset1_path)\n",
    "\n",
    "dataset2_path = \"../data/0-cruda/tabla-resumen.csv\"\n",
    "dataset2_crudo_dataframe = pd.read_csv(dataset2_path)\n"
   ]
  },
  {
   "cell_type": "code",
   "execution_count": 9,
   "metadata": {},
   "outputs": [
    {
     "data": {
      "text/html": [
       "<div>\n",
       "<style scoped>\n",
       "    .dataframe tbody tr th:only-of-type {\n",
       "        vertical-align: middle;\n",
       "    }\n",
       "\n",
       "    .dataframe tbody tr th {\n",
       "        vertical-align: top;\n",
       "    }\n",
       "\n",
       "    .dataframe thead th {\n",
       "        text-align: right;\n",
       "    }\n",
       "</style>\n",
       "<table border=\"1\" class=\"dataframe\">\n",
       "  <thead>\n",
       "    <tr style=\"text-align: right;\">\n",
       "      <th></th>\n",
       "      <th>UE</th>\n",
       "      <th>Nombre</th>\n",
       "      <th>Sexo</th>\n",
       "      <th>Etapa</th>\n",
       "      <th>Hora</th>\n",
       "      <th>Tiempo</th>\n",
       "      <th>X</th>\n",
       "      <th>Y</th>\n",
       "      <th>Z</th>\n",
       "      <th>Estado</th>\n",
       "      <th>Comportamiento</th>\n",
       "      <th>ODBA</th>\n",
       "    </tr>\n",
       "  </thead>\n",
       "  <tbody>\n",
       "    <tr>\n",
       "      <th>0</th>\n",
       "      <td>6</td>\n",
       "      <td>Matilda</td>\n",
       "      <td>Hembra</td>\n",
       "      <td>A1</td>\n",
       "      <td>20:00.0</td>\n",
       "      <td>1</td>\n",
       "      <td>0.0000</td>\n",
       "      <td>-0.5469</td>\n",
       "      <td>0.8125</td>\n",
       "      <td>I</td>\n",
       "      <td>D</td>\n",
       "      <td>0.014043</td>\n",
       "    </tr>\n",
       "    <tr>\n",
       "      <th>1</th>\n",
       "      <td>6</td>\n",
       "      <td>Matilda</td>\n",
       "      <td>Hembra</td>\n",
       "      <td>A1</td>\n",
       "      <td>20:00.1</td>\n",
       "      <td>1</td>\n",
       "      <td>-0.0156</td>\n",
       "      <td>-0.5469</td>\n",
       "      <td>0.8281</td>\n",
       "      <td>I</td>\n",
       "      <td>D</td>\n",
       "      <td>0.020277</td>\n",
       "    </tr>\n",
       "    <tr>\n",
       "      <th>2</th>\n",
       "      <td>6</td>\n",
       "      <td>Matilda</td>\n",
       "      <td>Hembra</td>\n",
       "      <td>A1</td>\n",
       "      <td>20:00.2</td>\n",
       "      <td>1</td>\n",
       "      <td>0.0000</td>\n",
       "      <td>-0.5469</td>\n",
       "      <td>0.7969</td>\n",
       "      <td>I</td>\n",
       "      <td>D</td>\n",
       "      <td>0.029643</td>\n",
       "    </tr>\n",
       "    <tr>\n",
       "      <th>3</th>\n",
       "      <td>6</td>\n",
       "      <td>Matilda</td>\n",
       "      <td>Hembra</td>\n",
       "      <td>A1</td>\n",
       "      <td>20:00.3</td>\n",
       "      <td>1</td>\n",
       "      <td>-0.0156</td>\n",
       "      <td>-0.5469</td>\n",
       "      <td>0.8125</td>\n",
       "      <td>I</td>\n",
       "      <td>D</td>\n",
       "      <td>0.011963</td>\n",
       "    </tr>\n",
       "    <tr>\n",
       "      <th>4</th>\n",
       "      <td>6</td>\n",
       "      <td>Matilda</td>\n",
       "      <td>Hembra</td>\n",
       "      <td>A1</td>\n",
       "      <td>20:00.4</td>\n",
       "      <td>1</td>\n",
       "      <td>0.0000</td>\n",
       "      <td>-0.5469</td>\n",
       "      <td>0.8125</td>\n",
       "      <td>I</td>\n",
       "      <td>D</td>\n",
       "      <td>0.014043</td>\n",
       "    </tr>\n",
       "  </tbody>\n",
       "</table>\n",
       "</div>"
      ],
      "text/plain": [
       "   UE   Nombre    Sexo Etapa     Hora  Tiempo       X       Y       Z Estado  \\\n",
       "0   6  Matilda  Hembra    A1  20:00.0       1  0.0000 -0.5469  0.8125      I   \n",
       "1   6  Matilda  Hembra    A1  20:00.1       1 -0.0156 -0.5469  0.8281      I   \n",
       "2   6  Matilda  Hembra    A1  20:00.2       1  0.0000 -0.5469  0.7969      I   \n",
       "3   6  Matilda  Hembra    A1  20:00.3       1 -0.0156 -0.5469  0.8125      I   \n",
       "4   6  Matilda  Hembra    A1  20:00.4       1  0.0000 -0.5469  0.8125      I   \n",
       "\n",
       "  Comportamiento      ODBA  \n",
       "0              D  0.014043  \n",
       "1              D  0.020277  \n",
       "2              D  0.029643  \n",
       "3              D  0.011963  \n",
       "4              D  0.014043  "
      ]
     },
     "execution_count": 9,
     "metadata": {},
     "output_type": "execute_result"
    }
   ],
   "source": [
    "dataset1_crudo_dataframe.head()"
   ]
  },
  {
   "cell_type": "code",
   "execution_count": 10,
   "metadata": {},
   "outputs": [
    {
     "data": {
      "text/html": [
       "<div>\n",
       "<style scoped>\n",
       "    .dataframe tbody tr th:only-of-type {\n",
       "        vertical-align: middle;\n",
       "    }\n",
       "\n",
       "    .dataframe tbody tr th {\n",
       "        vertical-align: top;\n",
       "    }\n",
       "\n",
       "    .dataframe thead th {\n",
       "        text-align: right;\n",
       "    }\n",
       "</style>\n",
       "<table border=\"1\" class=\"dataframe\">\n",
       "  <thead>\n",
       "    <tr style=\"text-align: right;\">\n",
       "      <th></th>\n",
       "      <th>UE</th>\n",
       "      <th>Nombre</th>\n",
       "      <th>Sexo</th>\n",
       "      <th>Fecha</th>\n",
       "      <th>Hora</th>\n",
       "      <th>Estado</th>\n",
       "      <th>Comportamiento</th>\n",
       "      <th>Comport 2</th>\n",
       "      <th>Posición</th>\n",
       "      <th>x</th>\n",
       "      <th>...</th>\n",
       "      <th>x prom/3seg</th>\n",
       "      <th>y prom/3seg</th>\n",
       "      <th>z prom/3seg</th>\n",
       "      <th>dif x</th>\n",
       "      <th>dif y</th>\n",
       "      <th>dif z</th>\n",
       "      <th>abs dif x</th>\n",
       "      <th>abs dif y</th>\n",
       "      <th>abs dif z</th>\n",
       "      <th>ODBA</th>\n",
       "    </tr>\n",
       "  </thead>\n",
       "  <tbody>\n",
       "    <tr>\n",
       "      <th>0</th>\n",
       "      <td>1</td>\n",
       "      <td>Chaqueña</td>\n",
       "      <td>Hembra</td>\n",
       "      <td>8/22/2019</td>\n",
       "      <td>25:28.0</td>\n",
       "      <td>A</td>\n",
       "      <td>E</td>\n",
       "      <td>E</td>\n",
       "      <td>C</td>\n",
       "      <td>0.1250</td>\n",
       "      <td>...</td>\n",
       "      <td>0.117717</td>\n",
       "      <td>0.1948</td>\n",
       "      <td>0.914077</td>\n",
       "      <td>0.007283</td>\n",
       "      <td>0.0708</td>\n",
       "      <td>-0.023477</td>\n",
       "      <td>0.007283</td>\n",
       "      <td>0.0708</td>\n",
       "      <td>0.023477</td>\n",
       "      <td>0.101560</td>\n",
       "    </tr>\n",
       "    <tr>\n",
       "      <th>1</th>\n",
       "      <td>1</td>\n",
       "      <td>Chaqueña</td>\n",
       "      <td>Hembra</td>\n",
       "      <td>8/22/2019</td>\n",
       "      <td>25:28.1</td>\n",
       "      <td>A</td>\n",
       "      <td>E</td>\n",
       "      <td>E</td>\n",
       "      <td>C</td>\n",
       "      <td>0.1094</td>\n",
       "      <td>...</td>\n",
       "      <td>NaN</td>\n",
       "      <td>NaN</td>\n",
       "      <td>NaN</td>\n",
       "      <td>-0.008317</td>\n",
       "      <td>0.0708</td>\n",
       "      <td>-0.039077</td>\n",
       "      <td>0.008317</td>\n",
       "      <td>0.0708</td>\n",
       "      <td>0.039077</td>\n",
       "      <td>0.118193</td>\n",
       "    </tr>\n",
       "    <tr>\n",
       "      <th>2</th>\n",
       "      <td>1</td>\n",
       "      <td>Chaqueña</td>\n",
       "      <td>Hembra</td>\n",
       "      <td>8/22/2019</td>\n",
       "      <td>25:28.2</td>\n",
       "      <td>A</td>\n",
       "      <td>E</td>\n",
       "      <td>E</td>\n",
       "      <td>C</td>\n",
       "      <td>0.1094</td>\n",
       "      <td>...</td>\n",
       "      <td>NaN</td>\n",
       "      <td>NaN</td>\n",
       "      <td>NaN</td>\n",
       "      <td>-0.008317</td>\n",
       "      <td>0.0708</td>\n",
       "      <td>-0.007777</td>\n",
       "      <td>0.008317</td>\n",
       "      <td>0.0708</td>\n",
       "      <td>0.007777</td>\n",
       "      <td>0.086893</td>\n",
       "    </tr>\n",
       "    <tr>\n",
       "      <th>3</th>\n",
       "      <td>1</td>\n",
       "      <td>Chaqueña</td>\n",
       "      <td>Hembra</td>\n",
       "      <td>8/22/2019</td>\n",
       "      <td>25:28.3</td>\n",
       "      <td>A</td>\n",
       "      <td>E</td>\n",
       "      <td>E</td>\n",
       "      <td>C</td>\n",
       "      <td>0.1094</td>\n",
       "      <td>...</td>\n",
       "      <td>NaN</td>\n",
       "      <td>NaN</td>\n",
       "      <td>NaN</td>\n",
       "      <td>-0.008317</td>\n",
       "      <td>0.0552</td>\n",
       "      <td>0.007823</td>\n",
       "      <td>0.008317</td>\n",
       "      <td>0.0552</td>\n",
       "      <td>0.007823</td>\n",
       "      <td>0.071340</td>\n",
       "    </tr>\n",
       "    <tr>\n",
       "      <th>4</th>\n",
       "      <td>1</td>\n",
       "      <td>Chaqueña</td>\n",
       "      <td>Hembra</td>\n",
       "      <td>8/22/2019</td>\n",
       "      <td>25:28.4</td>\n",
       "      <td>A</td>\n",
       "      <td>E</td>\n",
       "      <td>E</td>\n",
       "      <td>C</td>\n",
       "      <td>0.1719</td>\n",
       "      <td>...</td>\n",
       "      <td>NaN</td>\n",
       "      <td>NaN</td>\n",
       "      <td>NaN</td>\n",
       "      <td>0.054183</td>\n",
       "      <td>0.0396</td>\n",
       "      <td>0.007823</td>\n",
       "      <td>0.054183</td>\n",
       "      <td>0.0396</td>\n",
       "      <td>0.007823</td>\n",
       "      <td>0.101607</td>\n",
       "    </tr>\n",
       "  </tbody>\n",
       "</table>\n",
       "<p>5 rows × 22 columns</p>\n",
       "</div>"
      ],
      "text/plain": [
       "   UE    Nombre    Sexo      Fecha     Hora Estado Comportamiento Comport 2  \\\n",
       "0   1  Chaqueña  Hembra  8/22/2019  25:28.0      A              E         E   \n",
       "1   1  Chaqueña  Hembra  8/22/2019  25:28.1      A              E         E   \n",
       "2   1  Chaqueña  Hembra  8/22/2019  25:28.2      A              E         E   \n",
       "3   1  Chaqueña  Hembra  8/22/2019  25:28.3      A              E         E   \n",
       "4   1  Chaqueña  Hembra  8/22/2019  25:28.4      A              E         E   \n",
       "\n",
       "  Posición       x  ...  x prom/3seg  y prom/3seg  z prom/3seg     dif x  \\\n",
       "0        C  0.1250  ...     0.117717       0.1948     0.914077  0.007283   \n",
       "1        C  0.1094  ...          NaN          NaN          NaN -0.008317   \n",
       "2        C  0.1094  ...          NaN          NaN          NaN -0.008317   \n",
       "3        C  0.1094  ...          NaN          NaN          NaN -0.008317   \n",
       "4        C  0.1719  ...          NaN          NaN          NaN  0.054183   \n",
       "\n",
       "   dif y      dif z  abs dif x  abs dif y   abs dif z       ODBA  \n",
       "0  0.0708 -0.023477   0.007283      0.0708    0.023477  0.101560  \n",
       "1  0.0708 -0.039077   0.008317      0.0708    0.039077  0.118193  \n",
       "2  0.0708 -0.007777   0.008317      0.0708    0.007777  0.086893  \n",
       "3  0.0552  0.007823   0.008317      0.0552    0.007823  0.071340  \n",
       "4  0.0396  0.007823   0.054183      0.0396    0.007823  0.101607  \n",
       "\n",
       "[5 rows x 22 columns]"
      ]
     },
     "execution_count": 10,
     "metadata": {},
     "output_type": "execute_result"
    }
   ],
   "source": [
    "dataset2_crudo_dataframe.head()"
   ]
  },
  {
   "cell_type": "code",
   "execution_count": 11,
   "metadata": {},
   "outputs": [
    {
     "data": {
      "text/plain": [
       "['UE',\n",
       " 'Nombre',\n",
       " 'Sexo',\n",
       " 'Etapa',\n",
       " 'Hora',\n",
       " 'Tiempo',\n",
       " 'X',\n",
       " 'Y',\n",
       " 'Z',\n",
       " 'Estado',\n",
       " 'Comportamiento',\n",
       " 'ODBA']"
      ]
     },
     "execution_count": 11,
     "metadata": {},
     "output_type": "execute_result"
    }
   ],
   "source": [
    "# Revisar nombres de columnas\n",
    "dataset1_crudo_dataframe.columns.to_list()"
   ]
  },
  {
   "cell_type": "code",
   "execution_count": 12,
   "metadata": {},
   "outputs": [
    {
     "data": {
      "text/plain": [
       "['UE',\n",
       " 'Nombre',\n",
       " 'Sexo',\n",
       " 'Fecha',\n",
       " 'Hora',\n",
       " 'Estado',\n",
       " 'Comportamiento',\n",
       " 'Comport 2',\n",
       " 'Posición',\n",
       " 'x',\n",
       " 'y',\n",
       " 'z',\n",
       " 'x prom/3seg',\n",
       " 'y prom/3seg',\n",
       " 'z prom/3seg',\n",
       " 'dif x',\n",
       " 'dif y ',\n",
       " 'dif z',\n",
       " 'abs dif x',\n",
       " 'abs dif y ',\n",
       " 'abs dif z ',\n",
       " 'ODBA']"
      ]
     },
     "execution_count": 12,
     "metadata": {},
     "output_type": "execute_result"
    }
   ],
   "source": [
    "dataset2_crudo_dataframe.columns.to_list()"
   ]
  },
  {
   "cell_type": "code",
   "execution_count": 13,
   "metadata": {},
   "outputs": [
    {
     "data": {
      "text/plain": [
       "(466560, 12)"
      ]
     },
     "execution_count": 13,
     "metadata": {},
     "output_type": "execute_result"
    }
   ],
   "source": [
    "dataset1_crudo_dataframe.shape\n"
   ]
  },
  {
   "cell_type": "code",
   "execution_count": 14,
   "metadata": {},
   "outputs": [
    {
     "data": {
      "text/plain": [
       "(119030, 22)"
      ]
     },
     "execution_count": 14,
     "metadata": {},
     "output_type": "execute_result"
    }
   ],
   "source": [
    "dataset2_crudo_dataframe.shape"
   ]
  },
  {
   "cell_type": "code",
   "execution_count": 15,
   "metadata": {},
   "outputs": [
    {
     "name": "stdout",
     "output_type": "stream",
     "text": [
      "<class 'pandas.core.frame.DataFrame'>\n",
      "RangeIndex: 466560 entries, 0 to 466559\n",
      "Data columns (total 12 columns):\n",
      " #   Column          Non-Null Count   Dtype  \n",
      "---  ------          --------------   -----  \n",
      " 0   UE              466560 non-null  int64  \n",
      " 1   Nombre          466560 non-null  object \n",
      " 2   Sexo            466560 non-null  object \n",
      " 3   Etapa           466560 non-null  object \n",
      " 4   Hora            466560 non-null  object \n",
      " 5   Tiempo          466560 non-null  int64  \n",
      " 6   X               466560 non-null  float64\n",
      " 7   Y               466560 non-null  float64\n",
      " 8   Z               466560 non-null  float64\n",
      " 9   Estado          466559 non-null  object \n",
      " 10  Comportamiento  466559 non-null  object \n",
      " 11  ODBA            466560 non-null  float64\n",
      "dtypes: float64(4), int64(2), object(6)\n",
      "memory usage: 42.7+ MB\n"
     ]
    }
   ],
   "source": [
    "dataset1_crudo_dataframe.info()"
   ]
  },
  {
   "cell_type": "code",
   "execution_count": 16,
   "metadata": {},
   "outputs": [
    {
     "name": "stdout",
     "output_type": "stream",
     "text": [
      "<class 'pandas.core.frame.DataFrame'>\n",
      "RangeIndex: 119030 entries, 0 to 119029\n",
      "Data columns (total 22 columns):\n",
      " #   Column          Non-Null Count   Dtype  \n",
      "---  ------          --------------   -----  \n",
      " 0   UE              119030 non-null  int64  \n",
      " 1   Nombre          119030 non-null  object \n",
      " 2   Sexo            119030 non-null  object \n",
      " 3   Fecha           119030 non-null  object \n",
      " 4   Hora            119030 non-null  object \n",
      " 5   Estado          119030 non-null  object \n",
      " 6   Comportamiento  119020 non-null  object \n",
      " 7   Comport 2       119020 non-null  object \n",
      " 8   Posición        119030 non-null  object \n",
      " 9   x               119030 non-null  float64\n",
      " 10  y               119030 non-null  float64\n",
      " 11  z               119030 non-null  float64\n",
      " 12  x prom/3seg     3968 non-null    float64\n",
      " 13  y prom/3seg     3968 non-null    float64\n",
      " 14  z prom/3seg     3968 non-null    float64\n",
      " 15  dif x           119030 non-null  float64\n",
      " 16  dif y           119030 non-null  float64\n",
      " 17  dif z           119030 non-null  float64\n",
      " 18  abs dif x       119030 non-null  float64\n",
      " 19  abs dif y       119030 non-null  float64\n",
      " 20  abs dif z       119030 non-null  float64\n",
      " 21  ODBA            119030 non-null  float64\n",
      "dtypes: float64(13), int64(1), object(8)\n",
      "memory usage: 20.0+ MB\n"
     ]
    }
   ],
   "source": [
    "dataset2_crudo_dataframe.info()"
   ]
  },
  {
   "cell_type": "code",
   "execution_count": 17,
   "metadata": {},
   "outputs": [
    {
     "data": {
      "text/html": [
       "<div>\n",
       "<style scoped>\n",
       "    .dataframe tbody tr th:only-of-type {\n",
       "        vertical-align: middle;\n",
       "    }\n",
       "\n",
       "    .dataframe tbody tr th {\n",
       "        vertical-align: top;\n",
       "    }\n",
       "\n",
       "    .dataframe thead th {\n",
       "        text-align: right;\n",
       "    }\n",
       "</style>\n",
       "<table border=\"1\" class=\"dataframe\">\n",
       "  <thead>\n",
       "    <tr style=\"text-align: right;\">\n",
       "      <th></th>\n",
       "      <th>UE</th>\n",
       "      <th>Tiempo</th>\n",
       "      <th>X</th>\n",
       "      <th>Y</th>\n",
       "      <th>Z</th>\n",
       "      <th>ODBA</th>\n",
       "    </tr>\n",
       "  </thead>\n",
       "  <tbody>\n",
       "    <tr>\n",
       "      <th>count</th>\n",
       "      <td>466560.00000</td>\n",
       "      <td>466560.000000</td>\n",
       "      <td>466560.000000</td>\n",
       "      <td>466560.000000</td>\n",
       "      <td>466560.000000</td>\n",
       "      <td>466560.000000</td>\n",
       "    </tr>\n",
       "    <tr>\n",
       "      <th>mean</th>\n",
       "      <td>5.50000</td>\n",
       "      <td>144.500000</td>\n",
       "      <td>0.205897</td>\n",
       "      <td>-0.197764</td>\n",
       "      <td>0.540138</td>\n",
       "      <td>0.076477</td>\n",
       "    </tr>\n",
       "    <tr>\n",
       "      <th>std</th>\n",
       "      <td>2.81366</td>\n",
       "      <td>83.138027</td>\n",
       "      <td>0.307815</td>\n",
       "      <td>0.502086</td>\n",
       "      <td>0.494675</td>\n",
       "      <td>0.136346</td>\n",
       "    </tr>\n",
       "    <tr>\n",
       "      <th>min</th>\n",
       "      <td>2.00000</td>\n",
       "      <td>1.000000</td>\n",
       "      <td>-1.500000</td>\n",
       "      <td>-2.875000</td>\n",
       "      <td>-3.468800</td>\n",
       "      <td>0.000047</td>\n",
       "    </tr>\n",
       "    <tr>\n",
       "      <th>25%</th>\n",
       "      <td>3.00000</td>\n",
       "      <td>72.750000</td>\n",
       "      <td>0.015600</td>\n",
       "      <td>-0.593800</td>\n",
       "      <td>0.359400</td>\n",
       "      <td>0.017673</td>\n",
       "    </tr>\n",
       "    <tr>\n",
       "      <th>50%</th>\n",
       "      <td>5.00000</td>\n",
       "      <td>144.500000</td>\n",
       "      <td>0.234400</td>\n",
       "      <td>-0.203100</td>\n",
       "      <td>0.750000</td>\n",
       "      <td>0.027037</td>\n",
       "    </tr>\n",
       "    <tr>\n",
       "      <th>75%</th>\n",
       "      <td>8.00000</td>\n",
       "      <td>216.250000</td>\n",
       "      <td>0.390600</td>\n",
       "      <td>0.140600</td>\n",
       "      <td>0.890600</td>\n",
       "      <td>0.051567</td>\n",
       "    </tr>\n",
       "    <tr>\n",
       "      <th>max</th>\n",
       "      <td>10.00000</td>\n",
       "      <td>288.000000</td>\n",
       "      <td>1.750000</td>\n",
       "      <td>1.578100</td>\n",
       "      <td>5.250000</td>\n",
       "      <td>8.062487</td>\n",
       "    </tr>\n",
       "  </tbody>\n",
       "</table>\n",
       "</div>"
      ],
      "text/plain": [
       "                 UE         Tiempo              X              Y  \\\n",
       "count  466560.00000  466560.000000  466560.000000  466560.000000   \n",
       "mean        5.50000     144.500000       0.205897      -0.197764   \n",
       "std         2.81366      83.138027       0.307815       0.502086   \n",
       "min         2.00000       1.000000      -1.500000      -2.875000   \n",
       "25%         3.00000      72.750000       0.015600      -0.593800   \n",
       "50%         5.00000     144.500000       0.234400      -0.203100   \n",
       "75%         8.00000     216.250000       0.390600       0.140600   \n",
       "max        10.00000     288.000000       1.750000       1.578100   \n",
       "\n",
       "                   Z           ODBA  \n",
       "count  466560.000000  466560.000000  \n",
       "mean        0.540138       0.076477  \n",
       "std         0.494675       0.136346  \n",
       "min        -3.468800       0.000047  \n",
       "25%         0.359400       0.017673  \n",
       "50%         0.750000       0.027037  \n",
       "75%         0.890600       0.051567  \n",
       "max         5.250000       8.062487  "
      ]
     },
     "execution_count": 17,
     "metadata": {},
     "output_type": "execute_result"
    }
   ],
   "source": [
    "dataset1_crudo_dataframe.describe()"
   ]
  },
  {
   "cell_type": "code",
   "execution_count": 18,
   "metadata": {},
   "outputs": [
    {
     "data": {
      "text/html": [
       "<div>\n",
       "<style scoped>\n",
       "    .dataframe tbody tr th:only-of-type {\n",
       "        vertical-align: middle;\n",
       "    }\n",
       "\n",
       "    .dataframe tbody tr th {\n",
       "        vertical-align: top;\n",
       "    }\n",
       "\n",
       "    .dataframe thead th {\n",
       "        text-align: right;\n",
       "    }\n",
       "</style>\n",
       "<table border=\"1\" class=\"dataframe\">\n",
       "  <thead>\n",
       "    <tr style=\"text-align: right;\">\n",
       "      <th></th>\n",
       "      <th>UE</th>\n",
       "      <th>x</th>\n",
       "      <th>y</th>\n",
       "      <th>z</th>\n",
       "      <th>x prom/3seg</th>\n",
       "      <th>y prom/3seg</th>\n",
       "      <th>z prom/3seg</th>\n",
       "      <th>dif x</th>\n",
       "      <th>dif y</th>\n",
       "      <th>dif z</th>\n",
       "      <th>abs dif x</th>\n",
       "      <th>abs dif y</th>\n",
       "      <th>abs dif z</th>\n",
       "      <th>ODBA</th>\n",
       "    </tr>\n",
       "  </thead>\n",
       "  <tbody>\n",
       "    <tr>\n",
       "      <th>count</th>\n",
       "      <td>119030.000000</td>\n",
       "      <td>119030.000000</td>\n",
       "      <td>119030.000000</td>\n",
       "      <td>119030.000000</td>\n",
       "      <td>3968.000000</td>\n",
       "      <td>3968.000000</td>\n",
       "      <td>3968.000000</td>\n",
       "      <td>1.190300e+05</td>\n",
       "      <td>1.190300e+05</td>\n",
       "      <td>1.190300e+05</td>\n",
       "      <td>119030.000000</td>\n",
       "      <td>119030.000000</td>\n",
       "      <td>119030.000000</td>\n",
       "      <td>119030.000000</td>\n",
       "    </tr>\n",
       "    <tr>\n",
       "      <th>mean</th>\n",
       "      <td>5.502310</td>\n",
       "      <td>0.278723</td>\n",
       "      <td>-0.023097</td>\n",
       "      <td>0.669473</td>\n",
       "      <td>0.278663</td>\n",
       "      <td>-0.023176</td>\n",
       "      <td>0.669728</td>\n",
       "      <td>1.097118e-18</td>\n",
       "      <td>2.355132e-19</td>\n",
       "      <td>1.271771e-18</td>\n",
       "      <td>0.064500</td>\n",
       "      <td>0.076805</td>\n",
       "      <td>0.063634</td>\n",
       "      <td>0.204939</td>\n",
       "    </tr>\n",
       "    <tr>\n",
       "      <th>std</th>\n",
       "      <td>2.904318</td>\n",
       "      <td>0.422830</td>\n",
       "      <td>0.336086</td>\n",
       "      <td>0.348745</td>\n",
       "      <td>0.408476</td>\n",
       "      <td>0.313718</td>\n",
       "      <td>0.330369</td>\n",
       "      <td>1.096109e-01</td>\n",
       "      <td>1.209401e-01</td>\n",
       "      <td>1.129497e-01</td>\n",
       "      <td>0.088624</td>\n",
       "      <td>0.093421</td>\n",
       "      <td>0.093319</td>\n",
       "      <td>0.216879</td>\n",
       "    </tr>\n",
       "    <tr>\n",
       "      <th>min</th>\n",
       "      <td>1.000000</td>\n",
       "      <td>-2.000000</td>\n",
       "      <td>-2.125000</td>\n",
       "      <td>-7.296900</td>\n",
       "      <td>-0.994280</td>\n",
       "      <td>-1.018233</td>\n",
       "      <td>-0.691680</td>\n",
       "      <td>-1.748943e+00</td>\n",
       "      <td>-2.248437e+00</td>\n",
       "      <td>-8.158363e+00</td>\n",
       "      <td>0.000000</td>\n",
       "      <td>0.000000</td>\n",
       "      <td>0.000000</td>\n",
       "      <td>0.001063</td>\n",
       "    </tr>\n",
       "    <tr>\n",
       "      <th>25%</th>\n",
       "      <td>3.000000</td>\n",
       "      <td>0.015600</td>\n",
       "      <td>-0.281300</td>\n",
       "      <td>0.484400</td>\n",
       "      <td>0.040109</td>\n",
       "      <td>-0.268242</td>\n",
       "      <td>0.498581</td>\n",
       "      <td>-3.226667e-02</td>\n",
       "      <td>-4.008667e-02</td>\n",
       "      <td>-3.175667e-02</td>\n",
       "      <td>0.010900</td>\n",
       "      <td>0.012027</td>\n",
       "      <td>0.013053</td>\n",
       "      <td>0.054710</td>\n",
       "    </tr>\n",
       "    <tr>\n",
       "      <th>50%</th>\n",
       "      <td>6.000000</td>\n",
       "      <td>0.203100</td>\n",
       "      <td>-0.031300</td>\n",
       "      <td>0.812500</td>\n",
       "      <td>0.204443</td>\n",
       "      <td>-0.037527</td>\n",
       "      <td>0.822150</td>\n",
       "      <td>5.200000e-04</td>\n",
       "      <td>0.000000e+00</td>\n",
       "      <td>4.333333e-05</td>\n",
       "      <td>0.031778</td>\n",
       "      <td>0.040120</td>\n",
       "      <td>0.032327</td>\n",
       "      <td>0.135943</td>\n",
       "    </tr>\n",
       "    <tr>\n",
       "      <th>75%</th>\n",
       "      <td>8.000000</td>\n",
       "      <td>0.625000</td>\n",
       "      <td>0.218800</td>\n",
       "      <td>0.921900</td>\n",
       "      <td>0.613554</td>\n",
       "      <td>0.212777</td>\n",
       "      <td>0.908344</td>\n",
       "      <td>3.128000e-02</td>\n",
       "      <td>4.014583e-02</td>\n",
       "      <td>3.285333e-02</td>\n",
       "      <td>0.081786</td>\n",
       "      <td>0.108900</td>\n",
       "      <td>0.077103</td>\n",
       "      <td>0.282347</td>\n",
       "    </tr>\n",
       "    <tr>\n",
       "      <th>max</th>\n",
       "      <td>10.000000</td>\n",
       "      <td>2.328100</td>\n",
       "      <td>3.234400</td>\n",
       "      <td>5.046900</td>\n",
       "      <td>1.012520</td>\n",
       "      <td>0.945320</td>\n",
       "      <td>1.059917</td>\n",
       "      <td>1.992150e+00</td>\n",
       "      <td>3.110963e+00</td>\n",
       "      <td>3.986983e+00</td>\n",
       "      <td>1.992150</td>\n",
       "      <td>3.110963</td>\n",
       "      <td>8.158363</td>\n",
       "      <td>12.413090</td>\n",
       "    </tr>\n",
       "  </tbody>\n",
       "</table>\n",
       "</div>"
      ],
      "text/plain": [
       "                  UE              x              y              z  \\\n",
       "count  119030.000000  119030.000000  119030.000000  119030.000000   \n",
       "mean        5.502310       0.278723      -0.023097       0.669473   \n",
       "std         2.904318       0.422830       0.336086       0.348745   \n",
       "min         1.000000      -2.000000      -2.125000      -7.296900   \n",
       "25%         3.000000       0.015600      -0.281300       0.484400   \n",
       "50%         6.000000       0.203100      -0.031300       0.812500   \n",
       "75%         8.000000       0.625000       0.218800       0.921900   \n",
       "max        10.000000       2.328100       3.234400       5.046900   \n",
       "\n",
       "       x prom/3seg  y prom/3seg  z prom/3seg         dif x        dif y   \\\n",
       "count  3968.000000  3968.000000  3968.000000  1.190300e+05  1.190300e+05   \n",
       "mean      0.278663    -0.023176     0.669728  1.097118e-18  2.355132e-19   \n",
       "std       0.408476     0.313718     0.330369  1.096109e-01  1.209401e-01   \n",
       "min      -0.994280    -1.018233    -0.691680 -1.748943e+00 -2.248437e+00   \n",
       "25%       0.040109    -0.268242     0.498581 -3.226667e-02 -4.008667e-02   \n",
       "50%       0.204443    -0.037527     0.822150  5.200000e-04  0.000000e+00   \n",
       "75%       0.613554     0.212777     0.908344  3.128000e-02  4.014583e-02   \n",
       "max       1.012520     0.945320     1.059917  1.992150e+00  3.110963e+00   \n",
       "\n",
       "              dif z      abs dif x     abs dif y      abs dif z   \\\n",
       "count  1.190300e+05  119030.000000  119030.000000  119030.000000   \n",
       "mean   1.271771e-18       0.064500       0.076805       0.063634   \n",
       "std    1.129497e-01       0.088624       0.093421       0.093319   \n",
       "min   -8.158363e+00       0.000000       0.000000       0.000000   \n",
       "25%   -3.175667e-02       0.010900       0.012027       0.013053   \n",
       "50%    4.333333e-05       0.031778       0.040120       0.032327   \n",
       "75%    3.285333e-02       0.081786       0.108900       0.077103   \n",
       "max    3.986983e+00       1.992150       3.110963       8.158363   \n",
       "\n",
       "                ODBA  \n",
       "count  119030.000000  \n",
       "mean        0.204939  \n",
       "std         0.216879  \n",
       "min         0.001063  \n",
       "25%         0.054710  \n",
       "50%         0.135943  \n",
       "75%         0.282347  \n",
       "max        12.413090  "
      ]
     },
     "execution_count": 18,
     "metadata": {},
     "output_type": "execute_result"
    }
   ],
   "source": [
    "dataset2_crudo_dataframe.describe()"
   ]
  },
  {
   "cell_type": "code",
   "execution_count": 19,
   "metadata": {},
   "outputs": [
    {
     "data": {
      "text/plain": [
       "UE                0\n",
       "Nombre            0\n",
       "Sexo              0\n",
       "Etapa             0\n",
       "Hora              0\n",
       "Tiempo            0\n",
       "X                 0\n",
       "Y                 0\n",
       "Z                 0\n",
       "Estado            1\n",
       "Comportamiento    1\n",
       "ODBA              0\n",
       "dtype: int64"
      ]
     },
     "execution_count": 19,
     "metadata": {},
     "output_type": "execute_result"
    }
   ],
   "source": [
    "# Chequear valores nulos dataset 1\n",
    "dataset1_crudo_dataframe.isnull().sum()"
   ]
  },
  {
   "cell_type": "code",
   "execution_count": 20,
   "metadata": {},
   "outputs": [
    {
     "data": {
      "text/plain": [
       "UE                     0\n",
       "Nombre                 0\n",
       "Sexo                   0\n",
       "Fecha                  0\n",
       "Hora                   0\n",
       "Estado                 0\n",
       "Comportamiento        10\n",
       "Comport 2             10\n",
       "Posición               0\n",
       "x                      0\n",
       "y                      0\n",
       "z                      0\n",
       "x prom/3seg       115062\n",
       "y prom/3seg       115062\n",
       "z prom/3seg       115062\n",
       "dif x                  0\n",
       "dif y                  0\n",
       "dif z                  0\n",
       "abs dif x              0\n",
       "abs dif y              0\n",
       "abs dif z              0\n",
       "ODBA                   0\n",
       "dtype: int64"
      ]
     },
     "execution_count": 20,
     "metadata": {},
     "output_type": "execute_result"
    }
   ],
   "source": [
    "# Chequear valores nulos dataset 2\n",
    "dataset2_crudo_dataframe.isnull().sum()"
   ]
  },
  {
   "cell_type": "code",
   "execution_count": 21,
   "metadata": {},
   "outputs": [
    {
     "data": {
      "text/plain": [
       "UE                     6\n",
       "Nombre                 6\n",
       "Sexo                   2\n",
       "Etapa                  3\n",
       "Hora                1083\n",
       "Tiempo               288\n",
       "X                    158\n",
       "Y                    158\n",
       "Z                    206\n",
       "Estado                 2\n",
       "Comportamiento        12\n",
       "ODBA              116897\n",
       "dtype: int64"
      ]
     },
     "execution_count": 21,
     "metadata": {},
     "output_type": "execute_result"
    }
   ],
   "source": [
    "# Chequear valores unicos dataset 1\n",
    "dataset1_crudo_dataframe.nunique()"
   ]
  },
  {
   "cell_type": "code",
   "execution_count": 22,
   "metadata": {},
   "outputs": [
    {
     "data": {
      "text/plain": [
       "UE                   10\n",
       "Nombre               11\n",
       "Sexo                  2\n",
       "Fecha                 5\n",
       "Hora              35700\n",
       "Estado                2\n",
       "Comportamiento       10\n",
       "Comport 2             7\n",
       "Posición              9\n",
       "x                   151\n",
       "y                   152\n",
       "z                   179\n",
       "x prom/3seg        3368\n",
       "y prom/3seg        3444\n",
       "z prom/3seg        2830\n",
       "dif x             25492\n",
       "dif y             28505\n",
       "dif z             24145\n",
       "abs dif x         18447\n",
       "abs dif y         20023\n",
       "abs dif z         18152\n",
       "ODBA              57669\n",
       "dtype: int64"
      ]
     },
     "execution_count": 22,
     "metadata": {},
     "output_type": "execute_result"
    }
   ],
   "source": [
    "# Chequear valores unicos dataset 2\n",
    "dataset2_crudo_dataframe.nunique()"
   ]
  },
  {
   "cell_type": "markdown",
   "metadata": {},
   "source": [
    "### Notas\n",
    "\n",
    "#### Dataset 1 - estudio3\n",
    "\n",
    "- Pareciera ser el original crudo\n",
    "- Mas muestras: (466560, 12)\n",
    "- Menos columnas\n",
    "    - Datos de interes: Nombre, Sexo, X, Y, Z,  Comportamiento (salida) y ODBA.\n",
    "    - 12 tipos de comportamiento de salida\n",
    "\n",
    "#### Dataset 2 - tabla-resumen\n",
    "\n",
    "- Pareciera ser el dataset curado para el estudio con excel\n",
    "- Menos muestras: (119030, 22)\n",
    "- Mas columnas\n",
    "    - Tiene un segundo comportamiento y promedios de los últimos 3 segundos de las lecturas del acelerometro. \n",
    "    - 10 tipos de comportamientos de salida\n",
    "\n",
    "A priori pareciera ser que el dataset 1 es el mejor para representado. Para verificar, se revisan las columnas de salida y el numero de especímenes y muestras de ambos datasets."
   ]
  },
  {
   "cell_type": "code",
   "execution_count": 23,
   "metadata": {},
   "outputs": [
    {
     "data": {
      "text/plain": [
       "['D', 'E', 'AL', 'O', 'IM', 'AA', 'NV', 'L', 'LD', 'LA', 'LI', 'LR', nan]"
      ]
     },
     "execution_count": 23,
     "metadata": {},
     "output_type": "execute_result"
    }
   ],
   "source": [
    "# Verificar valores de la columna Comportamiento para ambos datasets\n",
    "dataset1_crudo_dataframe['Comportamiento'].unique().tolist()"
   ]
  },
  {
   "cell_type": "code",
   "execution_count": 24,
   "metadata": {},
   "outputs": [
    {
     "data": {
      "text/plain": [
       "['E', 'TD', 'IM', 'L', 'AA', 'TA', nan, 'OTROS', 'I', 'AL', 'A']"
      ]
     },
     "execution_count": 24,
     "metadata": {},
     "output_type": "execute_result"
    }
   ],
   "source": [
    "dataset2_crudo_dataframe['Comportamiento'].unique().tolist()"
   ]
  },
  {
   "cell_type": "code",
   "execution_count": 25,
   "metadata": {},
   "outputs": [
    {
     "data": {
      "text/plain": [
       "['Matilda', 'Maíz', 'Franco', 'Isabella', 'Garrita', 'Salvaje']"
      ]
     },
     "execution_count": 25,
     "metadata": {},
     "output_type": "execute_result"
    }
   ],
   "source": [
    "dataset1_crudo_dataframe['Nombre'].unique().tolist()"
   ]
  },
  {
   "cell_type": "code",
   "execution_count": 26,
   "metadata": {},
   "outputs": [
    {
     "data": {
      "text/plain": [
       "['Chaqueña',\n",
       " 'Franco',\n",
       " 'Garrita',\n",
       " 'Inti',\n",
       " 'Inti ',\n",
       " 'Isabella',\n",
       " 'Luz',\n",
       " 'Maíz',\n",
       " 'Matilda',\n",
       " 'Salvaje',\n",
       " 'Tucumano']"
      ]
     },
     "execution_count": 26,
     "metadata": {},
     "output_type": "execute_result"
    }
   ],
   "source": [
    "dataset2_crudo_dataframe['Nombre'].unique().tolist()"
   ]
  },
  {
   "cell_type": "code",
   "execution_count": null,
   "metadata": {},
   "outputs": [],
   "source": [
    "# Revisar si la columna inti repetida tiene los mismos datos\n",
    "\n",
    "dataframe_inti = df[dataset2_crudo_dataframe['Nombre']=='Inti']\n",
    "dataframe_inti_ = df[dataset2_crudo_dataframe['Nombre']=='Inti ']\n",
    "\n",
    "# Borrar columna nombre de ambos dataframes\n",
    "dataframe_inti = dataframe_inti.drop(columns=['Nombre'])\n",
    "dataframe_inti_ = dataframe_inti_.drop(columns=['Nombre'])\n",
    "\n",
    "# Comparar ambos dataframes\n",
    "print(dataframe_inti.equals(dataframe_inti_))"
   ]
  },
  {
   "cell_type": "code",
   "execution_count": 27,
   "metadata": {},
   "outputs": [
    {
     "data": {
      "text/plain": [
       "Nombre\n",
       "Matilda     77760\n",
       "Maíz        77760\n",
       "Franco      77760\n",
       "Isabella    77760\n",
       "Garrita     77760\n",
       "Salvaje     77760\n",
       "Name: count, dtype: int64"
      ]
     },
     "execution_count": 27,
     "metadata": {},
     "output_type": "execute_result"
    }
   ],
   "source": [
    "# Numero de muestras por nombre en dataset 1\n",
    "dataset1_crudo_dataframe['Nombre'].value_counts()"
   ]
  },
  {
   "cell_type": "code",
   "execution_count": 28,
   "metadata": {},
   "outputs": [
    {
     "data": {
      "text/plain": [
       "Nombre\n",
       "Chaqueña    14600\n",
       "Luz         13920\n",
       "Maíz        13040\n",
       "Matilda     12400\n",
       "Franco      12270\n",
       "Tucumano    11830\n",
       "Salvaje     11650\n",
       "Garrita     10650\n",
       "Inti         6540\n",
       "Inti         6540\n",
       "Isabella     5590\n",
       "Name: count, dtype: int64"
      ]
     },
     "execution_count": 28,
     "metadata": {},
     "output_type": "execute_result"
    }
   ],
   "source": [
    "dataset2_crudo_dataframe['Nombre'].value_counts()"
   ]
  },
  {
   "cell_type": "markdown",
   "metadata": {},
   "source": [
    "## Analisis detallado\n",
    "\n",
    "### Datos categóricos\n",
    "\n",
    "#### Graficos\n",
    "- Muestras por especimen\n",
    "- Muestras por sexo\n",
    "- Muestras por comportamiento\n",
    "- Muestras por especimen por comportamiento"
   ]
  },
  {
   "cell_type": "code",
   "execution_count": 42,
   "metadata": {},
   "outputs": [
    {
     "data": {
      "text/plain": [
       "Text(0.5, 1.0, 'Dataset 2 - tabla-resumen.csv')"
      ]
     },
     "execution_count": 42,
     "metadata": {},
     "output_type": "execute_result"
    },
    {
     "data": {
      "image/png": "[encoded data removed]",
      "text/plain": [
       "<Figure size 640x480 with 2 Axes>"
      ]
     },
     "metadata": {},
     "output_type": "display_data"
    }
   ],
   "source": [
    "# Count plot of the column Name in dataset 1 an 2\n",
    "fig, axes = plt.subplots(2, 1)\n",
    "\n",
    "sns.countplot(x='Nombre', data=dataset1_crudo_dataframe, ax=axes[0])\n",
    "sns.countplot(x='Nombre', data=dataset2_crudo_dataframe, ax=axes[1])\n",
    "\n",
    "# Adjust vertical spacing between the plots\n",
    "plt.subplots_adjust(hspace=1)\n",
    "\n",
    "# Rotate x-axis labels\n",
    "axes[0].tick_params(axis='x', rotation=45)\n",
    "axes[1].tick_params(axis='x', rotation=45)\n",
    "\n",
    "# Set the title for the plots\n",
    "axes[0].set_title('Dataset 1 - estudio3.csv')\n",
    "axes[1].set_title('Dataset 2 - tabla-resumen.csv')\n"
   ]
  },
  {
   "cell_type": "markdown",
   "metadata": {},
   "source": [
    "Se vuelve a apreciar visualmente que el dataset 1 parece estar mas crudo que el dataset 2. Se procede a comparar los numeros de muestras para los especímenes que coinciden en ambos datasets."
   ]
  },
  {
   "cell_type": "code",
   "execution_count": 45,
   "metadata": {},
   "outputs": [
    {
     "data": {
      "image/png": "[encoded data removed]",
      "text/plain": [
       "<Figure size 640x480 with 1 Axes>"
      ]
     },
     "metadata": {},
     "output_type": "display_data"
    }
   ],
   "source": [
    "# Plot counts for each specimen in dataset 1 and compare with dataset 2\n",
    "sns.countplot(x='Nombre', data=dataset1_crudo_dataframe)\n",
    "sns.countplot(x='Nombre', data=dataset2_crudo_dataframe)\n",
    "\n"
   ]
  },
  {
   "cell_type": "code",
   "execution_count": 50,
   "metadata": {},
   "outputs": [
    {
     "data": {
      "text/plain": [
       "<Axes: xlabel='Sexo', ylabel='count'>"
      ]
     },
     "execution_count": 50,
     "metadata": {},
     "output_type": "execute_result"
    },
    {
     "data": {
      "image/png": "[encoded data removed]",
      "text/plain": [
       "<Figure size 640x480 with 1 Axes>"
      ]
     },
     "metadata": {},
     "output_type": "display_data"
    }
   ],
   "source": [
    "# Plot de muestras por sexo\n",
    "sns.countplot(x='Sexo', data=dataset1_crudo_dataframe)\n",
    "sns.countplot(x='Sexo', data=dataset2_crudo_dataframe)\n"
   ]
  },
  {
   "cell_type": "code",
   "execution_count": 52,
   "metadata": {},
   "outputs": [
    {
     "data": {
      "text/plain": [
       "Sexo\n",
       "Hembra    233280\n",
       "Macho     233280\n",
       "Name: count, dtype: int64"
      ]
     },
     "execution_count": 52,
     "metadata": {},
     "output_type": "execute_result"
    }
   ],
   "source": [
    "dataset1_crudo_dataframe['Sexo'].value_counts()"
   ]
  },
  {
   "cell_type": "code",
   "execution_count": 51,
   "metadata": {},
   "outputs": [
    {
     "data": {
      "text/plain": [
       "Sexo\n",
       "Macho     61870\n",
       "Hembra    57160\n",
       "Name: count, dtype: int64"
      ]
     },
     "execution_count": 51,
     "metadata": {},
     "output_type": "execute_result"
    }
   ],
   "source": [
    "dataset2_crudo_dataframe['Sexo'].value_counts()"
   ]
  },
  {
   "cell_type": "code",
   "execution_count": 46,
   "metadata": {},
   "outputs": [
    {
     "data": {
      "text/plain": [
       "Text(0.5, 1.0, 'Dataset 2 - tabla-resumen.csv')"
      ]
     },
     "execution_count": 46,
     "metadata": {},
     "output_type": "execute_result"
    },
    {
     "data": {
      "image/png": "[encoded data removed]",
      "text/plain": [
       "<Figure size 640x480 with 2 Axes>"
      ]
     },
     "metadata": {},
     "output_type": "display_data"
    }
   ],
   "source": [
    "# Count plot of the column Name in dataset 1 an 2\n",
    "fig, axes = plt.subplots(2, 1)\n",
    "\n",
    "sns.countplot(x='Comportamiento', data=dataset1_crudo_dataframe, ax=axes[0])\n",
    "sns.countplot(x='Comportamiento', data=dataset2_crudo_dataframe, ax=axes[1])\n",
    "\n",
    "# Adjust vertical spacing between the plots\n",
    "plt.subplots_adjust(hspace=1)\n",
    "\n",
    "# Set the title for the plots\n",
    "axes[0].set_title('Dataset 1 - estudio3.csv')\n",
    "axes[1].set_title('Dataset 2 - tabla-resumen.csv')\n"
   ]
  },
  {
   "cell_type": "code",
   "execution_count": 49,
   "metadata": {},
   "outputs": [
    {
     "data": {
      "image/png": "[encoded data removed]",
      "text/plain": [
       "<Figure size 640x480 with 2 Axes>"
      ]
     },
     "metadata": {},
     "output_type": "display_data"
    }
   ],
   "source": [
    "# Create a pie chart for dataset 1\n",
    "plt.subplot(1, 2, 1)\n",
    "dataset1_crudo_dataframe['Comportamiento'].value_counts().plot.pie()\n",
    "\n",
    "# Create a pie chart for dataset 2\n",
    "plt.subplot(1, 2, 2)\n",
    "dataset2_crudo_dataframe['Comportamiento'].value_counts().plot.pie()\n",
    "\n",
    "# Set the title for the plots\n",
    "plt.suptitle('Comportamiento Distribution')\n",
    "\n",
    "# Adjust the layout\n",
    "plt.tight_layout()\n"
   ]
  },
  {
   "cell_type": "code",
   "execution_count": 48,
   "metadata": {},
   "outputs": [
    {
     "data": {
      "text/plain": [
       "<Axes: xlabel='Comportamiento', ylabel='count'>"
      ]
     },
     "execution_count": 48,
     "metadata": {},
     "output_type": "execute_result"
    },
    {
     "data": {
      "image/png": "[encoded data removed]",
      "text/plain": [
       "<Figure size 640x480 with 1 Axes>"
      ]
     },
     "metadata": {},
     "output_type": "display_data"
    }
   ],
   "source": [
    "# Plot counts for each specimen in dataset 1 and compare with dataset 2\n",
    "sns.countplot(x='Comportamiento', data=dataset1_crudo_dataframe)\n",
    "sns.countplot(x='Comportamiento', data=dataset2_crudo_dataframe)"
   ]
  },
  {
   "cell_type": "code",
   "execution_count": null,
   "metadata": {},
   "outputs": [],
   "source": [
    "# Distribución de comportamientos por especimen: Dataset 1\n",
    "nombres = dataset1_crudo_dataframe['Nombre'].unique().tolist()\n",
    "\n",
    "fig, axes = plt.subplots(nombres.len(), 1)\n",
    "\n",
    "for i, nombre in enumerate(nombres):\n",
    "    sns.countplot(x='Comportamiento', data=dataset1_crudo_dataframe[dataset1_crudo_dataframe['Nombre']==nombre], ax=axes[i])\n",
    "    axes[i].set_title(nombre)"
   ]
  },
  {
   "cell_type": "markdown",
   "metadata": {},
   "source": [
    "#### Conclusiones\n",
    "\n",
    "- Especimenes\n",
    "    - Dataset 1 muestra datos repartidos igualmente entre menor cantidad de especímenes\n",
    "    - Dataset 2 muestra mas especímenes, pero con numero de muestras variable, entre las 5590 y los 14050 dependiendo el especímen.\n",
    "\n",
    "- Sexo: El dataset esta bastante equilibrado en ambos casos.\n",
    "\n",
    "- Comportamiento: Es la variable de estudio mas importante, salida cuya clasificación queremos que predizcan nuestros modelos. Es evidente que en cuanto a muestras por comportamiento todo el dataset esta desequilibrado.\n",
    "    - El dataset 1 contiene una cantidad desproporcionada de muestras con los especímenes en descanso. \n",
    "    - En el caso del dataset 2, el comportamiento dominantes es E, de exploración, que indica que el animal esta despierto, alerta y con un cierto nivel de actividad. \n"
   ]
  },
  {
   "cell_type": "markdown",
   "metadata": {},
   "source": [
    "### Datos numéricos\n",
    "\n",
    "Los datos numéricos de entrada para nuestros modelos seran las variables X, Y, Z y ODBA. Se procede al análisis exploratorio de las variables relevantes en los formatos:\n",
    "\n",
    "- Scatter plot por dataset\n",
    "- Cuenta de outliers por dataset\n",
    "- Box por comportamiento por dataset\n",
    "- Violin por comportamiento por dataset "
   ]
  }
 ],
 "metadata": {
  "kernelspec": {
   "display_name": "Python [conda env:dev-tf]",
   "language": "python",
   "name": "conda-env-dev-tf-py"
  },
  "language_info": {
   "codemirror_mode": {
    "name": "ipython",
    "version": 3
   },
   "file_extension": ".py",
   "mimetype": "text/x-python",
   "name": "python",
   "nbconvert_exporter": "python",
   "pygments_lexer": "ipython3",
   "version": "3.10.14"
  }
 },
 "nbformat": 4,
 "nbformat_minor": 4
}

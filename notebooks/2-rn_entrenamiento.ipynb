{
 "cells": [
  {
   "cell_type": "markdown",
   "metadata": {},
   "source": [
    "# Modelado y entrenamiento de Redes Neuronales Profundas\n",
    "\n",
    "Objetivos:\n",
    "    - Separar los dataset para entrenar distintos modelos:\n",
    "        - Dataset completo.\n",
    "        - Por sexo.\n",
    "    - Modelar redes neuronales que tengan como objetivo predecir el comportamiento del animal a partir de los datos de:\n",
    "        - 1 segundo de mediciones (capa de entrada de: 10 muestras * 4 Variables por muestra = 40 unidades de entrada).\n",
    "        - 5 segundos de mediciones (capa de entrada de: 50 muestras * 4 Variables por muestra = 200 unidades de entrada). \n",
    "            - Predice el comportamiento del ultimo segundo.\n",
    "        - Los comportamientos a predecir de acuerdo a los dataset separados son:\n",
    "            - Dataset 1 - estudio3.csv - 12\n",
    "            - Dataset 2 - tabla-resumen.csv - 10\n",
    "    - Evaluar los modelos para cada tipo de dataset tomado.\n",
    "\n",
    "\n",
    "Después del análisis exploratorio, pasamos a enumerar los pasos para entrenar las distintos modelos de redes neuronales.\n",
    "\n",
    "1. Abrir datasets a considerar\n",
    "2. Generar split de datos: Train, test, validation\n",
    "3. Correr entrenamiento de los modelos y guardar los distintos modelos\n",
    "4. Evaluar modelos sobre el mismo set de validación, que no fue utilizado en el proceso de entrenamiento de ninguno de los modelos.\n"
   ]
  },
  {
   "cell_type": "markdown",
   "metadata": {
    "vscode": {
     "languageId": "plaintext"
    }
   },
   "source": [
    "## 1 - Carga de datasets\n",
    "Se cargan los datasets previamente generados en objetos. "
   ]
  },
  {
   "cell_type": "code",
   "execution_count": 16,
   "metadata": {},
   "outputs": [
    {
     "ename": "ImportError",
     "evalue": "cannot import name 'dataframe_from_csv' from 'dataset_manipulation' (/home/jbaez/Documents/utn/gintea/rnr-meleros/notebooks/../src/dataset_manipulation/__init__.py)",
     "output_type": "error",
     "traceback": [
      "\u001b[0;31m---------------------------------------------------------------------------\u001b[0m",
      "\u001b[0;31mImportError\u001b[0m                               Traceback (most recent call last)",
      "Cell \u001b[0;32mIn[16], line 4\u001b[0m\n\u001b[1;32m      1\u001b[0m \u001b[38;5;28;01mimport\u001b[39;00m \u001b[38;5;21;01msys\u001b[39;00m\n\u001b[1;32m      2\u001b[0m sys\u001b[38;5;241m.\u001b[39mpath\u001b[38;5;241m.\u001b[39mappend(\u001b[38;5;124m'\u001b[39m\u001b[38;5;124m../src\u001b[39m\u001b[38;5;124m'\u001b[39m)\n\u001b[0;32m----> 4\u001b[0m \u001b[38;5;28;01mfrom\u001b[39;00m \u001b[38;5;21;01mdataset_manipulation\u001b[39;00m \u001b[38;5;28;01mimport\u001b[39;00m dataframe_from_csv\n\u001b[1;32m      6\u001b[0m estudio3_df \u001b[38;5;241m=\u001b[39m dataframe_from_csv(\u001b[38;5;124m'\u001b[39m\u001b[38;5;124m../data/1-intermedia/estudio3_dataset_per_second.csv\u001b[39m\u001b[38;5;124m'\u001b[39m)\n\u001b[1;32m      7\u001b[0m tabla_df \u001b[38;5;241m=\u001b[39m dm\u001b[38;5;241m.\u001b[39mdataframe_from_csv(\u001b[38;5;124m'\u001b[39m\u001b[38;5;124m../data/1-intermedia/tabla-resumen_dataset_per_second.csv\u001b[39m\u001b[38;5;124m'\u001b[39m)\n",
      "\u001b[0;31mImportError\u001b[0m: cannot import name 'dataframe_from_csv' from 'dataset_manipulation' (/home/jbaez/Documents/utn/gintea/rnr-meleros/notebooks/../src/dataset_manipulation/__init__.py)"
     ]
    }
   ],
   "source": [
    "import pandas as pd\n",
    "\n",
    "estudio3_df = pd.read_csv(\"../data/1-intermedia/estudio3_dataset_per_second.csv\")\n",
    "resumen_df = pd.read_csv(\"../data/1-intermedia/tabla-resumen_dataset_per_second.csv\")"
   ]
  },
  {
   "cell_type": "markdown",
   "metadata": {},
   "source": [
    "## 2 - Generación split de datos\n"
   ]
  }
 ],
 "metadata": {
  "kernelspec": {
   "display_name": "Python 3",
   "language": "python",
   "name": "python3"
  },
  "language_info": {
   "codemirror_mode": {
    "name": "ipython",
    "version": 3
   },
   "file_extension": ".py",
   "mimetype": "text/x-python",
   "name": "python",
   "nbconvert_exporter": "python",
   "pygments_lexer": "ipython3",
   "version": "3.11.9"
  }
 },
 "nbformat": 4,
 "nbformat_minor": 2
}

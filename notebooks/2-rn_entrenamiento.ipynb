{
 "cells": [
  {
   "cell_type": "markdown",
   "metadata": {},
   "source": [
    "# Modelado y entrenamiento de Redes Neuronales Profundas\n",
    "\n",
    "Objetivos:\n",
    "\n",
    "- Separar los dataset para entrenar distintos modelos:\n",
    "    - Dataset completo.\n",
    "    - Por sexo.\n",
    "- Modelar redes neuronales que tengan como objetivo predecir el comportamiento del animal a partir de los datos de:\n",
    "    - 1 segundo de mediciones (capa de entrada de: 10 muestras * 4 Variables por muestra = 40 unidades de entrada).\n",
    "    - 5 segundos de mediciones (capa de entrada de: 50 muestras * 4 Variables por muestra = 200 unidades de entrada). \n",
    "        - Predice el comportamiento del ultimo segundo.\n",
    "    - Los comportamientos a predecir de acuerdo a los dataset separados son:\n",
    "        - Dataset 1 - estudio3.csv - 12\n",
    "        - Dataset 2 - tabla-resumen.csv - 10\n",
    "- Evaluar los modelos para cada tipo de dataset tomado.\n",
    "\n",
    "\n",
    "Después del análisis exploratorio, pasamos a enumerar los pasos para entrenar las distintos modelos de redes neuronales.\n",
    "\n",
    "1. Limpieza de datasets a considerar.\n",
    "2. Generar split de datos: Train, test, validation.\n",
    "3. Correr entrenamiento de los modelos y guardar los distintos modelos.\n",
    "4. Evaluar modelos sobre el mismo set de validación, que no fue utilizado en el proceso de entrenamiento de ninguno de los modelos.\n"
   ]
  },
  {
   "cell_type": "markdown",
   "metadata": {
    "vscode": {
     "languageId": "plaintext"
    }
   },
   "source": [
    "## 1 - Carga de datasets\n",
    "Se cargan los datasets previamente generados en el EDA."
   ]
  },
  {
   "cell_type": "code",
   "execution_count": 1,
   "metadata": {},
   "outputs": [
    {
     "name": "stdout",
     "output_type": "stream",
     "text": [
      "/home/jbaez/Documents/utn/gintea/rnr-meleros/notebooks\n"
     ]
    },
    {
     "name": "stdout",
     "output_type": "stream",
     "text": [
      "1-eda-analisis-exploratorio.ipynb  3-rn_evaluacion.ipynb   models\n",
      "2-rn_entrenamiento.ipynb\t   3-rnr_evaluacion.ipynb\n",
      "2-rnr_entrenamiento.ipynb\t   dev\n",
      "[Errno 2] No such file or directory: 'meleros/notebooks/'\n",
      "/home/jbaez/Documents/utn/gintea/rnr-meleros/notebooks\n",
      "/home/jbaez/Documents/utn/gintea/rnr-meleros/notebooks\n",
      "1-eda-analisis-exploratorio.ipynb  3-rn_evaluacion.ipynb   models\n",
      "2-rn_entrenamiento.ipynb\t   3-rnr_evaluacion.ipynb\n",
      "2-rnr_entrenamiento.ipynb\t   dev\n"
     ]
    }
   ],
   "source": [
    "!pwd\n",
    "!ls\n",
    "%cd meleros/notebooks/\n",
    "!pwd\n",
    "!ls"
   ]
  },
  {
   "cell_type": "code",
   "execution_count": 2,
   "metadata": {},
   "outputs": [],
   "source": [
    "import pandas as pd\n",
    "\n",
    "estudio3_df = pd.read_csv(\"../data/2-procesada/estudio3_dataset_per_second_limpio.csv\")\n",
    "resumen_df = pd.read_csv(\"../data/2-procesada/tabla-resumen_dataset_per_second_limpio.csv\")"
   ]
  },
  {
   "cell_type": "markdown",
   "metadata": {},
   "source": [
    "## 2 - Generación split de datos\n",
    "\n"
   ]
  },
  {
   "cell_type": "code",
   "execution_count": null,
   "metadata": {},
   "outputs": [],
   "source": []
  }
 ],
 "metadata": {
  "kernelspec": {
   "display_name": "Python 3",
   "language": "python",
   "name": "python3"
  },
  "language_info": {
   "codemirror_mode": {
    "name": "ipython",
    "version": 3
   },
   "file_extension": ".py",
   "mimetype": "text/x-python",
   "name": "python",
   "nbconvert_exporter": "python",
   "pygments_lexer": "ipython3",
   "version": "3.11.9"
  }
 },
 "nbformat": 4,
 "nbformat_minor": 2
}

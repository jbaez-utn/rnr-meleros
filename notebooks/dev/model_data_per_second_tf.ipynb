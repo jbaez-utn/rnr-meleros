{
 "cells": [
  {
   "cell_type": "markdown",
   "metadata": {},
   "source": [
    "# Modelos usando tensorflow: Muestras por segundo\n",
    "\n",
    "Recopilacion de modelos implementados principalmente usando tensorflow. \n",
    "\n",
    "Imports y herramientas usadas:"
   ]
  },
  {
   "cell_type": "code",
   "execution_count": 10,
   "metadata": {},
   "outputs": [],
   "source": [
    "import numpy as np\n",
    "import tensorflow as tf\n",
    "from tensorflow import keras\n",
    "import pandas as pd\n",
    "import seaborn as sns\n",
    "from pylab import rcParams\n",
    "import matplotlib.pyplot as plt\n",
    "from sklearn.model_selection import train_test_split\n",
    "\n",
    "sns.set(style='whitegrid', palette='muted', font_scale=1.2)\n",
    "rcParams['figure.figsize'] = 14, 8 \n",
    "RANDOM_SEED = 42\n",
    "np.random.seed(RANDOM_SEED)"
   ]
  },
  {
   "cell_type": "markdown",
   "metadata": {},
   "source": [
    "Procedemos entontes a la carga y preprocesado de datos. "
   ]
  },
  {
   "cell_type": "code",
   "execution_count": 16,
   "metadata": {},
   "outputs": [],
   "source": [
    "datos_por_segundo = \"../data/1-intermedia/resumen-comportamientos_Matilda_dataset_per_second.csv\""
   ]
  },
  {
   "cell_type": "markdown",
   "metadata": {},
   "source": [
    "Comenzamos analizando los datos de entrada. Revisamos el tamaño, la forma y las columnas que tiene."
   ]
  },
  {
   "cell_type": "code",
   "execution_count": 17,
   "metadata": {},
   "outputs": [],
   "source": [
    "data_raw = pd.read_csv(datos_por_segundo)"
   ]
  },
  {
   "cell_type": "code",
   "execution_count": 18,
   "metadata": {},
   "outputs": [
    {
     "name": "stdout",
     "output_type": "stream",
     "text": [
      "NaN values: 0\n"
     ]
    }
   ],
   "source": [
    "# Do we have NaN values in data_raw?\n",
    "print(f\"NaN values: {data_raw.isna().sum().sum()}\")"
   ]
  },
  {
   "cell_type": "code",
   "execution_count": 19,
   "metadata": {},
   "outputs": [
    {
     "data": {
      "text/html": [
       "<div>\n",
       "<style scoped>\n",
       "    .dataframe tbody tr th:only-of-type {\n",
       "        vertical-align: middle;\n",
       "    }\n",
       "\n",
       "    .dataframe tbody tr th {\n",
       "        vertical-align: top;\n",
       "    }\n",
       "\n",
       "    .dataframe thead th {\n",
       "        text-align: right;\n",
       "    }\n",
       "</style>\n",
       "<table border=\"1\" class=\"dataframe\">\n",
       "  <thead>\n",
       "    <tr style=\"text-align: right;\">\n",
       "      <th></th>\n",
       "      <th>x_0</th>\n",
       "      <th>y_0</th>\n",
       "      <th>z_0</th>\n",
       "      <th>ODBA_0</th>\n",
       "      <th>x_1</th>\n",
       "      <th>y_1</th>\n",
       "      <th>z_1</th>\n",
       "      <th>ODBA_1</th>\n",
       "      <th>x_2</th>\n",
       "      <th>y_2</th>\n",
       "      <th>...</th>\n",
       "      <th>z_7</th>\n",
       "      <th>ODBA_7</th>\n",
       "      <th>x_8</th>\n",
       "      <th>y_8</th>\n",
       "      <th>z_8</th>\n",
       "      <th>ODBA_8</th>\n",
       "      <th>x_9</th>\n",
       "      <th>y_9</th>\n",
       "      <th>z_9</th>\n",
       "      <th>ODBA_9</th>\n",
       "    </tr>\n",
       "  </thead>\n",
       "  <tbody>\n",
       "    <tr>\n",
       "      <th>count</th>\n",
       "      <td>1240.000000</td>\n",
       "      <td>1240.000000</td>\n",
       "      <td>1240.000000</td>\n",
       "      <td>1240.000000</td>\n",
       "      <td>1240.000000</td>\n",
       "      <td>1240.000000</td>\n",
       "      <td>1240.000000</td>\n",
       "      <td>1240.000000</td>\n",
       "      <td>1240.000000</td>\n",
       "      <td>1240.000000</td>\n",
       "      <td>...</td>\n",
       "      <td>1240.000000</td>\n",
       "      <td>1240.000000</td>\n",
       "      <td>1240.000000</td>\n",
       "      <td>1240.000000</td>\n",
       "      <td>1240.000000</td>\n",
       "      <td>1240.000000</td>\n",
       "      <td>1240.000000</td>\n",
       "      <td>1240.000000</td>\n",
       "      <td>1240.000000</td>\n",
       "      <td>1240.000000</td>\n",
       "    </tr>\n",
       "    <tr>\n",
       "      <th>mean</th>\n",
       "      <td>0.215241</td>\n",
       "      <td>0.116638</td>\n",
       "      <td>0.758530</td>\n",
       "      <td>0.298850</td>\n",
       "      <td>0.214296</td>\n",
       "      <td>0.113839</td>\n",
       "      <td>0.752203</td>\n",
       "      <td>0.295632</td>\n",
       "      <td>0.213589</td>\n",
       "      <td>0.117898</td>\n",
       "      <td>...</td>\n",
       "      <td>0.754686</td>\n",
       "      <td>0.303678</td>\n",
       "      <td>0.210933</td>\n",
       "      <td>0.117080</td>\n",
       "      <td>0.757042</td>\n",
       "      <td>0.296563</td>\n",
       "      <td>0.210920</td>\n",
       "      <td>0.122132</td>\n",
       "      <td>0.755353</td>\n",
       "      <td>0.304522</td>\n",
       "    </tr>\n",
       "    <tr>\n",
       "      <th>std</th>\n",
       "      <td>0.374927</td>\n",
       "      <td>0.263871</td>\n",
       "      <td>0.297255</td>\n",
       "      <td>0.254621</td>\n",
       "      <td>0.380278</td>\n",
       "      <td>0.266080</td>\n",
       "      <td>0.321738</td>\n",
       "      <td>0.329812</td>\n",
       "      <td>0.377200</td>\n",
       "      <td>0.266825</td>\n",
       "      <td>...</td>\n",
       "      <td>0.297195</td>\n",
       "      <td>0.264788</td>\n",
       "      <td>0.378386</td>\n",
       "      <td>0.261031</td>\n",
       "      <td>0.300800</td>\n",
       "      <td>0.267159</td>\n",
       "      <td>0.377138</td>\n",
       "      <td>0.264529</td>\n",
       "      <td>0.295316</td>\n",
       "      <td>0.279301</td>\n",
       "    </tr>\n",
       "    <tr>\n",
       "      <th>min</th>\n",
       "      <td>-1.015600</td>\n",
       "      <td>-0.890600</td>\n",
       "      <td>-0.375000</td>\n",
       "      <td>0.007790</td>\n",
       "      <td>-1.046900</td>\n",
       "      <td>-1.265600</td>\n",
       "      <td>-3.906300</td>\n",
       "      <td>0.004187</td>\n",
       "      <td>-1.000000</td>\n",
       "      <td>-0.953100</td>\n",
       "      <td>...</td>\n",
       "      <td>-0.453100</td>\n",
       "      <td>0.003690</td>\n",
       "      <td>-1.546900</td>\n",
       "      <td>-0.984400</td>\n",
       "      <td>-0.421900</td>\n",
       "      <td>0.007767</td>\n",
       "      <td>-1.234400</td>\n",
       "      <td>-0.968800</td>\n",
       "      <td>-0.406300</td>\n",
       "      <td>0.004140</td>\n",
       "    </tr>\n",
       "    <tr>\n",
       "      <th>25%</th>\n",
       "      <td>0.015600</td>\n",
       "      <td>-0.046900</td>\n",
       "      <td>0.656300</td>\n",
       "      <td>0.101486</td>\n",
       "      <td>0.015600</td>\n",
       "      <td>-0.046900</td>\n",
       "      <td>0.656300</td>\n",
       "      <td>0.099504</td>\n",
       "      <td>0.015600</td>\n",
       "      <td>-0.046900</td>\n",
       "      <td>...</td>\n",
       "      <td>0.625000</td>\n",
       "      <td>0.104721</td>\n",
       "      <td>0.000000</td>\n",
       "      <td>-0.031300</td>\n",
       "      <td>0.656300</td>\n",
       "      <td>0.097410</td>\n",
       "      <td>0.000000</td>\n",
       "      <td>-0.031300</td>\n",
       "      <td>0.640600</td>\n",
       "      <td>0.101443</td>\n",
       "    </tr>\n",
       "    <tr>\n",
       "      <th>50%</th>\n",
       "      <td>0.125000</td>\n",
       "      <td>0.140600</td>\n",
       "      <td>0.875000</td>\n",
       "      <td>0.236155</td>\n",
       "      <td>0.125000</td>\n",
       "      <td>0.140600</td>\n",
       "      <td>0.875000</td>\n",
       "      <td>0.223923</td>\n",
       "      <td>0.125000</td>\n",
       "      <td>0.140600</td>\n",
       "      <td>...</td>\n",
       "      <td>0.875000</td>\n",
       "      <td>0.237535</td>\n",
       "      <td>0.125000</td>\n",
       "      <td>0.125000</td>\n",
       "      <td>0.875000</td>\n",
       "      <td>0.226552</td>\n",
       "      <td>0.125000</td>\n",
       "      <td>0.140600</td>\n",
       "      <td>0.875000</td>\n",
       "      <td>0.230173</td>\n",
       "    </tr>\n",
       "    <tr>\n",
       "      <th>75%</th>\n",
       "      <td>0.359400</td>\n",
       "      <td>0.281300</td>\n",
       "      <td>0.937500</td>\n",
       "      <td>0.419188</td>\n",
       "      <td>0.359400</td>\n",
       "      <td>0.296900</td>\n",
       "      <td>0.921900</td>\n",
       "      <td>0.409158</td>\n",
       "      <td>0.375000</td>\n",
       "      <td>0.296900</td>\n",
       "      <td>...</td>\n",
       "      <td>0.937500</td>\n",
       "      <td>0.419957</td>\n",
       "      <td>0.359400</td>\n",
       "      <td>0.296900</td>\n",
       "      <td>0.937500</td>\n",
       "      <td>0.397898</td>\n",
       "      <td>0.347700</td>\n",
       "      <td>0.296900</td>\n",
       "      <td>0.937500</td>\n",
       "      <td>0.412864</td>\n",
       "    </tr>\n",
       "    <tr>\n",
       "      <th>max</th>\n",
       "      <td>1.031300</td>\n",
       "      <td>1.250000</td>\n",
       "      <td>1.343800</td>\n",
       "      <td>2.029297</td>\n",
       "      <td>2.328100</td>\n",
       "      <td>1.125000</td>\n",
       "      <td>1.468800</td>\n",
       "      <td>7.951573</td>\n",
       "      <td>1.234400</td>\n",
       "      <td>0.968800</td>\n",
       "      <td>...</td>\n",
       "      <td>1.406300</td>\n",
       "      <td>1.908370</td>\n",
       "      <td>1.062500</td>\n",
       "      <td>1.031300</td>\n",
       "      <td>1.390600</td>\n",
       "      <td>1.986470</td>\n",
       "      <td>1.046900</td>\n",
       "      <td>1.125000</td>\n",
       "      <td>1.406300</td>\n",
       "      <td>2.283370</td>\n",
       "    </tr>\n",
       "  </tbody>\n",
       "</table>\n",
       "<p>8 rows × 40 columns</p>\n",
       "</div>"
      ],
      "text/plain": [
       "               x_0          y_0          z_0       ODBA_0          x_1  \\\n",
       "count  1240.000000  1240.000000  1240.000000  1240.000000  1240.000000   \n",
       "mean      0.215241     0.116638     0.758530     0.298850     0.214296   \n",
       "std       0.374927     0.263871     0.297255     0.254621     0.380278   \n",
       "min      -1.015600    -0.890600    -0.375000     0.007790    -1.046900   \n",
       "25%       0.015600    -0.046900     0.656300     0.101486     0.015600   \n",
       "50%       0.125000     0.140600     0.875000     0.236155     0.125000   \n",
       "75%       0.359400     0.281300     0.937500     0.419188     0.359400   \n",
       "max       1.031300     1.250000     1.343800     2.029297     2.328100   \n",
       "\n",
       "               y_1          z_1       ODBA_1          x_2          y_2  ...  \\\n",
       "count  1240.000000  1240.000000  1240.000000  1240.000000  1240.000000  ...   \n",
       "mean      0.113839     0.752203     0.295632     0.213589     0.117898  ...   \n",
       "std       0.266080     0.321738     0.329812     0.377200     0.266825  ...   \n",
       "min      -1.265600    -3.906300     0.004187    -1.000000    -0.953100  ...   \n",
       "25%      -0.046900     0.656300     0.099504     0.015600    -0.046900  ...   \n",
       "50%       0.140600     0.875000     0.223923     0.125000     0.140600  ...   \n",
       "75%       0.296900     0.921900     0.409158     0.375000     0.296900  ...   \n",
       "max       1.125000     1.468800     7.951573     1.234400     0.968800  ...   \n",
       "\n",
       "               z_7       ODBA_7          x_8          y_8          z_8  \\\n",
       "count  1240.000000  1240.000000  1240.000000  1240.000000  1240.000000   \n",
       "mean      0.754686     0.303678     0.210933     0.117080     0.757042   \n",
       "std       0.297195     0.264788     0.378386     0.261031     0.300800   \n",
       "min      -0.453100     0.003690    -1.546900    -0.984400    -0.421900   \n",
       "25%       0.625000     0.104721     0.000000    -0.031300     0.656300   \n",
       "50%       0.875000     0.237535     0.125000     0.125000     0.875000   \n",
       "75%       0.937500     0.419957     0.359400     0.296900     0.937500   \n",
       "max       1.406300     1.908370     1.062500     1.031300     1.390600   \n",
       "\n",
       "            ODBA_8          x_9          y_9          z_9       ODBA_9  \n",
       "count  1240.000000  1240.000000  1240.000000  1240.000000  1240.000000  \n",
       "mean      0.296563     0.210920     0.122132     0.755353     0.304522  \n",
       "std       0.267159     0.377138     0.264529     0.295316     0.279301  \n",
       "min       0.007767    -1.234400    -0.968800    -0.406300     0.004140  \n",
       "25%       0.097410     0.000000    -0.031300     0.640600     0.101443  \n",
       "50%       0.226552     0.125000     0.140600     0.875000     0.230173  \n",
       "75%       0.397898     0.347700     0.296900     0.937500     0.412864  \n",
       "max       1.986470     1.046900     1.125000     1.406300     2.283370  \n",
       "\n",
       "[8 rows x 40 columns]"
      ]
     },
     "execution_count": 19,
     "metadata": {},
     "output_type": "execute_result"
    }
   ],
   "source": [
    "data_raw.describe()"
   ]
  },
  {
   "cell_type": "code",
   "execution_count": null,
   "metadata": {},
   "outputs": [
    {
     "data": {
      "text/plain": [
       "(1240, 41)"
      ]
     },
     "execution_count": 6,
     "metadata": {},
     "output_type": "execute_result"
    }
   ],
   "source": [
    "data_raw.shape"
   ]
  },
  {
   "cell_type": "code",
   "execution_count": null,
   "metadata": {},
   "outputs": [
    {
     "data": {
      "text/plain": [
       "Index(['x_0', 'y_0', 'z_0', 'ODBA_0', 'x_1', 'y_1', 'z_1', 'ODBA_1', 'x_2',\n",
       "       'y_2', 'z_2', 'ODBA_2', 'x_3', 'y_3', 'z_3', 'ODBA_3', 'x_4', 'y_4',\n",
       "       'z_4', 'ODBA_4', 'x_5', 'y_5', 'z_5', 'ODBA_5', 'x_6', 'y_6', 'z_6',\n",
       "       'ODBA_6', 'x_7', 'y_7', 'z_7', 'ODBA_7', 'x_8', 'y_8', 'z_8', 'ODBA_8',\n",
       "       'x_9', 'y_9', 'z_9', 'ODBA_9', 'Comportamiento'],\n",
       "      dtype='object')"
      ]
     },
     "execution_count": 7,
     "metadata": {},
     "output_type": "execute_result"
    }
   ],
   "source": [
    "data_raw.columns"
   ]
  },
  {
   "cell_type": "markdown",
   "metadata": {},
   "source": [
    "# 1 - Analisis de datos\n",
    "El primer paso es analizar los datos disponibles. En este caso, usamos seaborn para graficar la cantidad de muestras que tenemos por cada tipo de comportamiento en el dataset seleccionado. "
   ]
  },
  {
   "cell_type": "code",
   "execution_count": 20,
   "metadata": {},
   "outputs": [
    {
     "data": {
      "text/plain": [
       "Text(0.5, 1.0, 'Comportamiento de Matilda')"
      ]
     },
     "execution_count": 20,
     "metadata": {},
     "output_type": "execute_result"
    },
    {
     "data": {
      "image/png": "[encoded data removed]",
      "text/plain": [
       "<Figure size 1400x800 with 1 Axes>"
      ]
     },
     "metadata": {},
     "output_type": "display_data"
    }
   ],
   "source": [
    "f = sns.countplot(x='Comportamiento', data=data_raw)\n",
    "f.set_title('Comportamiento de Matilda')"
   ]
  },
  {
   "cell_type": "markdown",
   "metadata": {},
   "source": [
    "Removemos los outliers, valores de ODBA fuera de rangos logicos generales. Vamos a considerar 3 desviaciones estandar, lo que se llama numero de z-scores. Esto es porque los valores fuera de 3 desviaciones estandard de la media no tienen mucha logica de ser. "
   ]
  },
  {
   "cell_type": "code",
   "execution_count": 22,
   "metadata": {},
   "outputs": [
    {
     "name": "stdout",
     "output_type": "stream",
     "text": [
      "(12400,)\n",
      "[0.83021 1.28341 1.12711 1.17411 1.29901 0.83021 0.90831 0.65841 0.55527\n",
      " 0.39261]\n",
      "NaN values: 0\n",
      "Mean: 0.2944537333333333\n",
      "Standard deviation: 0.2669794553346632\n",
      "      x_0     y_0     z_0    ODBA_0     x_1     y_1     z_1    ODBA_1     x_2  \\\n",
      "0  0.0781  0.0781  0.9375  0.830210 -0.1563  0.2031  1.0313  1.283410 -0.0625   \n",
      "1 -0.0625 -0.1406  1.0000  0.237990  0.0313  0.0469  0.7031  0.450650  0.0469   \n",
      "2 -0.0469  0.3906  0.8281  0.591150 -0.1094  0.3438  0.9688  0.465190 -0.0625   \n",
      "3 -0.1875 -0.1250  0.9375  0.174450 -0.1875 -0.0938  0.9531  0.158850 -0.1563   \n",
      "4 -0.2500 -0.0313  0.9688  0.225593 -0.2656 -0.0469  0.8750  0.234887 -0.2500   \n",
      "\n",
      "      y_2  ...  ODBA_0_zscore  ODBA_1_zscore  ODBA_2_zscore  ODBA_3_zscore  \\\n",
      "0  0.2344  ...       2.006732       3.704241       3.118803       3.294846   \n",
      "1  0.3125  ...      -0.211491       0.585050       1.341812       0.467438   \n",
      "2  0.1719  ...       1.111307       0.639511       0.112504      -0.706960   \n",
      "3 -0.1250  ...      -0.449487      -0.507918      -0.449112      -0.449112   \n",
      "4 -0.0469  ...      -0.257924      -0.223115      -0.339978      -0.316730   \n",
      "\n",
      "   ODBA_4_zscore  ODBA_5_zscore  ODBA_6_zscore  ODBA_7_zscore  ODBA_8_zscore  \\\n",
      "0       3.762673       2.006732       2.299264       1.363237       0.976915   \n",
      "1      -0.211491       0.728881       1.076249       0.670450       0.467438   \n",
      "2      -0.035747       0.198728       0.315216      -0.156580      -0.328279   \n",
      "3      -0.387085      -0.273818      -0.562379      -0.535261      -0.297190   \n",
      "4      -0.199867      -0.258299      -0.316730      -0.258299      -0.433593   \n",
      "\n",
      "   ODBA_9_zscore  \n",
      "0       0.367655  \n",
      "1       0.346230  \n",
      "2      -0.098149  \n",
      "3      -0.418024  \n",
      "4      -0.516021  \n",
      "\n",
      "[5 rows x 51 columns]\n",
      "Original data shape: (1240, 41)\n",
      "Data without outliers filtered by ODBA value: (1171, 41)\n"
     ]
    }
   ],
   "source": [
    "# Create new dataframe to calculate outliers\n",
    "data_outlier_calc = data_raw.copy()\n",
    "\n",
    "# Create new numpy array from ODBA columns\n",
    "aux_combined_data = data_outlier_calc[['ODBA_0', 'ODBA_1', 'ODBA_2', 'ODBA_3', 'ODBA_4', 'ODBA_5', 'ODBA_6', 'ODBA_7', 'ODBA_8', 'ODBA_9']].to_numpy()\n",
    "aux_combined_data = np.concatenate(aux_combined_data)\n",
    "\n",
    "# Check combined data shape and head\n",
    "print(aux_combined_data.shape)\n",
    "print(aux_combined_data[:10])\n",
    "\n",
    "# Print nan values in combined data\n",
    "print(f\"NaN values: {np.isnan(aux_combined_data).sum()}\")\n",
    "\n",
    "# Calculate mean and standard deviation\n",
    "mean_ODBA = np.nanmean(aux_combined_data)\n",
    "std_ODBA = np.nanstd(aux_combined_data)\n",
    "\n",
    "# Print mean and standard deviation\n",
    "print(f\"Mean: {mean_ODBA}\")\n",
    "print(f\"Standard deviation: {std_ODBA}\")\n",
    "\n",
    "# Calculate z-score for each ODBA value\n",
    "for i in range(10):\n",
    "    column_name = f'ODBA_{i}'\n",
    "    data_outlier_calc[column_name + '_zscore'] = (data_outlier_calc[column_name] - mean_ODBA) / std_ODBA\n",
    "\n",
    "# Print first 5 rows of the new dataframe\n",
    "print(data_outlier_calc.head())\n",
    "\n",
    "# Create new dataframe to filter outliers\n",
    "data_no_outliers = data_outlier_calc.copy()\n",
    "\n",
    "# Filter outliers by z-score outside of -3 and 3\n",
    "for i in range(10):\n",
    "    column_name = f'ODBA_{i}'\n",
    "    data_no_outliers = data_no_outliers.loc[data_no_outliers[column_name + '_zscore'].abs() <= 3]\n",
    "\n",
    "# Clean z-score columns\n",
    "data_no_outliers = data_no_outliers.drop(columns=['ODBA_0_zscore', 'ODBA_1_zscore', 'ODBA_2_zscore', 'ODBA_3_zscore', 'ODBA_4_zscore', 'ODBA_5_zscore', 'ODBA_6_zscore', 'ODBA_7_zscore', 'ODBA_8_zscore', 'ODBA_9_zscore'])\n",
    "\n",
    "# Print the shape of both dataframes\n",
    "print(f\"Original data shape: {data_raw.shape}\")\n",
    "print(f\"Data without outliers filtered by ODBA value: {data_no_outliers.shape}\")\n"
   ]
  },
  {
   "cell_type": "markdown",
   "metadata": {},
   "source": [
    "En el analisis inicial realizado para datos por fila simple, fueron registrados con distintos puntos de colores de acuerdo a los valores medidos de _X_, _Y_ y _Z_ vs el _ODBA_. En este caso, como la cantidad de entrada es 40, no podemos realizar el mismo grafico. Lo que si podriamos es graficar los valores promedios medidos durante el segundo en particular."
   ]
  },
  {
   "cell_type": "markdown",
   "metadata": {},
   "source": [
    "# 2- Preparacion de datos\n",
    "\n",
    "Procedemos entonces con el siguiente paso: escalar los datos para que tengan valores entre -1 y 1, para darle de ingesta al modelo de red neuronal, cuyas capas de entrada reciben valores continuos entre esos valores, usando el objeto MinMaxScaler de la librería Scikit Learn.  "
   ]
  },
  {
   "cell_type": "code",
   "execution_count": 23,
   "metadata": {},
   "outputs": [
    {
     "name": "stdout",
     "output_type": "stream",
     "text": [
      "scaled_data type: <class 'numpy.ndarray'>\n",
      "scaled_df type: <class 'pandas.core.frame.DataFrame'> scaled_df shape: (1171, 40)\n",
      "(1171, 41)\n"
     ]
    }
   ],
   "source": [
    "from sklearn.preprocessing import MinMaxScaler\n",
    "\n",
    "# Create a MinMaxScaler object\n",
    "scaler = MinMaxScaler(feature_range=(-1, 1))\n",
    "\n",
    "# Scale the data\n",
    "scaled_data = scaler.fit_transform(data_no_outliers.select_dtypes(include='float'))\n",
    "\n",
    "print(f\"scaled_data type: {type(scaled_data)}\")\n",
    "\n",
    "# Convert the numpy array to a dataframe\n",
    "scaled_df = pd.DataFrame(scaled_data, columns=data_no_outliers.select_dtypes(include='float').columns)\n",
    "print(f\"scaled_df type: {type(scaled_df)} scaled_df shape: {scaled_df.shape}\")\n",
    "\n",
    "# Append Comportamiento column to scaled dataframe\n",
    "scaled_df['Comportamiento'] = data_no_outliers['Comportamiento'].values\n",
    "\n",
    "# Print the scaled dataframe\n",
    "print(scaled_df.shape)\n"
   ]
  },
  {
   "cell_type": "markdown",
   "metadata": {},
   "source": [
    "Una vez esten escalados los datos, separamos en los sets de entrenamiento y pruebas. "
   ]
  },
  {
   "cell_type": "code",
   "execution_count": 24,
   "metadata": {},
   "outputs": [
    {
     "name": "stdout",
     "output_type": "stream",
     "text": [
      "Train data shape: (936, 41)\n",
      "Test data shape: (235, 41)\n"
     ]
    }
   ],
   "source": [
    "# Perform test-train split\n",
    "train_data, test_data = train_test_split(scaled_df, test_size=0.2, random_state=RANDOM_SEED)\n",
    "\n",
    "# Print the shapes of the train and test data\n",
    "print(\"Train data shape:\", train_data.shape)\n",
    "print(\"Test data shape:\", test_data.shape)\n",
    "\n",
    "# Prepare training and validation data for model.fit()\n",
    "X_train = train_data.drop(columns=['Comportamiento'])\n",
    "y_train = train_data['Comportamiento']\n",
    "X_test = test_data.drop(columns=['Comportamiento'])\n",
    "y_test = test_data['Comportamiento']\n"
   ]
  },
  {
   "cell_type": "markdown",
   "metadata": {},
   "source": [
    "Lo ultimo que tenemos que hacer es codificar los valores de salida para mapearlos a una neurona de salida por cada categoria. "
   ]
  },
  {
   "cell_type": "code",
   "execution_count": 25,
   "metadata": {},
   "outputs": [],
   "source": [
    "from sklearn.preprocessing import LabelEncoder\n",
    "\n",
    "# Convert the target variable to numerical labels\n",
    "label_encoder = LabelEncoder()\n",
    "y_train_encoded = label_encoder.fit_transform(y_train)"
   ]
  },
  {
   "cell_type": "markdown",
   "metadata": {},
   "source": [
    "Definimos el modelo a generar."
   ]
  },
  {
   "cell_type": "code",
   "execution_count": null,
   "metadata": {},
   "outputs": [
    {
     "name": "stdout",
     "output_type": "stream",
     "text": [
      "Model: \"sequential\"\n",
      "_________________________________________________________________\n",
      "Layer (type)                 Output Shape              Param #   \n",
      "=================================================================\n",
      "dense (Dense)                (None, 40)                1640      \n",
      "_________________________________________________________________\n",
      "dense_1 (Dense)              (None, 20)                820       \n",
      "_________________________________________________________________\n",
      "dense_2 (Dense)              (None, 10)                210       \n",
      "_________________________________________________________________\n",
      "dense_3 (Dense)              (None, 7)                 77        \n",
      "=================================================================\n",
      "Total params: 2,747\n",
      "Trainable params: 2,747\n",
      "Non-trainable params: 0\n",
      "_________________________________________________________________\n"
     ]
    }
   ],
   "source": [
    "# Create new model with 40 columns as input, \"Comportamiento\" as cathegorical output, and 2 hidden layers with 20 and 10 neurons\n",
    "\n",
    "model = keras.Sequential([\n",
    "    keras.layers.Dense(40, input_shape=(40,), activation='relu'),\n",
    "    keras.layers.Dense(20, activation='relu'),\n",
    "    keras.layers.Dense(10, activation='relu'),\n",
    "    keras.layers.Dense(units=7, activation='softmax')\n",
    "])\n",
    "    \n",
    "model.summary()"
   ]
  },
  {
   "cell_type": "markdown",
   "metadata": {},
   "source": [
    "Compilamos el modelo y lo entrenamos. "
   ]
  },
  {
   "cell_type": "code",
   "execution_count": null,
   "metadata": {},
   "outputs": [
    {
     "name": "stdout",
     "output_type": "stream",
     "text": [
      "Epoch 1/100\n",
      "936/936 [==============================] - 1s 910us/step - loss: 1.3068 - accuracy: 0.4893\n",
      "Epoch 2/100\n",
      "936/936 [==============================] - 1s 972us/step - loss: 1.0519 - accuracy: 0.5609\n",
      "Epoch 3/100\n",
      "936/936 [==============================] - 1s 892us/step - loss: 0.9529 - accuracy: 0.6314\n",
      "Epoch 4/100\n",
      "936/936 [==============================] - 1s 919us/step - loss: 0.8870 - accuracy: 0.6720\n",
      "Epoch 5/100\n",
      "936/936 [==============================] - 1s 934us/step - loss: 0.8574 - accuracy: 0.6774\n",
      "Epoch 6/100\n",
      "936/936 [==============================] - 1s 936us/step - loss: 0.8315 - accuracy: 0.6902\n",
      "Epoch 7/100\n",
      "936/936 [==============================] - 1s 940us/step - loss: 0.8171 - accuracy: 0.6838\n",
      "Epoch 8/100\n",
      "936/936 [==============================] - 1s 911us/step - loss: 0.7862 - accuracy: 0.7019\n",
      "Epoch 9/100\n",
      "936/936 [==============================] - 1s 941us/step - loss: 0.7815 - accuracy: 0.7019\n",
      "Epoch 10/100\n",
      "936/936 [==============================] - 1s 944us/step - loss: 0.7727 - accuracy: 0.6987\n",
      "Epoch 11/100\n",
      "936/936 [==============================] - 1s 933us/step - loss: 0.7644 - accuracy: 0.7115\n",
      "Epoch 12/100\n",
      "936/936 [==============================] - 1s 1ms/step - loss: 0.7463 - accuracy: 0.7105\n",
      "Epoch 13/100\n",
      "936/936 [==============================] - 1s 939us/step - loss: 0.7351 - accuracy: 0.7158\n",
      "Epoch 14/100\n",
      "936/936 [==============================] - 1s 982us/step - loss: 0.7228 - accuracy: 0.7169\n",
      "Epoch 15/100\n",
      "936/936 [==============================] - 1s 980us/step - loss: 0.7140 - accuracy: 0.7286\n",
      "Epoch 16/100\n",
      "936/936 [==============================] - 1s 976us/step - loss: 0.7087 - accuracy: 0.7158\n",
      "Epoch 17/100\n",
      "936/936 [==============================] - 1s 922us/step - loss: 0.6936 - accuracy: 0.7212\n",
      "Epoch 18/100\n",
      "936/936 [==============================] - 1s 917us/step - loss: 0.6902 - accuracy: 0.7222\n",
      "Epoch 19/100\n",
      "936/936 [==============================] - 1s 934us/step - loss: 0.6781 - accuracy: 0.7468\n",
      "Epoch 20/100\n",
      "936/936 [==============================] - 1s 946us/step - loss: 0.6728 - accuracy: 0.7340\n",
      "Epoch 21/100\n",
      "936/936 [==============================] - 1s 958us/step - loss: 0.6634 - accuracy: 0.7265\n",
      "Epoch 22/100\n",
      "936/936 [==============================] - 1s 930us/step - loss: 0.6629 - accuracy: 0.7479\n",
      "Epoch 23/100\n",
      "936/936 [==============================] - 1s 982us/step - loss: 0.6531 - accuracy: 0.7468\n",
      "Epoch 24/100\n",
      "936/936 [==============================] - 1s 954us/step - loss: 0.6353 - accuracy: 0.7596\n",
      "Epoch 25/100\n",
      "936/936 [==============================] - 1s 919us/step - loss: 0.6380 - accuracy: 0.7457\n",
      "Epoch 26/100\n",
      "936/936 [==============================] - 1s 909us/step - loss: 0.6272 - accuracy: 0.7564\n",
      "Epoch 27/100\n",
      "936/936 [==============================] - 1s 924us/step - loss: 0.6253 - accuracy: 0.7543\n",
      "Epoch 28/100\n",
      "936/936 [==============================] - 1s 956us/step - loss: 0.6109 - accuracy: 0.7639\n",
      "Epoch 29/100\n",
      "936/936 [==============================] - 1s 894us/step - loss: 0.5993 - accuracy: 0.7682\n",
      "Epoch 30/100\n",
      "936/936 [==============================] - 1s 896us/step - loss: 0.5996 - accuracy: 0.7628\n",
      "Epoch 31/100\n",
      "936/936 [==============================] - 1s 899us/step - loss: 0.5855 - accuracy: 0.7767\n",
      "Epoch 32/100\n",
      "936/936 [==============================] - 1s 916us/step - loss: 0.5833 - accuracy: 0.7724\n",
      "Epoch 33/100\n",
      "936/936 [==============================] - 1s 915us/step - loss: 0.5786 - accuracy: 0.7831\n",
      "Epoch 34/100\n",
      "936/936 [==============================] - 1s 947us/step - loss: 0.5566 - accuracy: 0.7842\n",
      "Epoch 35/100\n",
      "936/936 [==============================] - 1s 957us/step - loss: 0.5789 - accuracy: 0.7767\n",
      "Epoch 36/100\n",
      "936/936 [==============================] - 1s 972us/step - loss: 0.5582 - accuracy: 0.7756\n",
      "Epoch 37/100\n",
      "936/936 [==============================] - 1s 1ms/step - loss: 0.5454 - accuracy: 0.7842\n",
      "Epoch 38/100\n",
      "936/936 [==============================] - 1s 942us/step - loss: 0.5399 - accuracy: 0.7949\n",
      "Epoch 39/100\n",
      "936/936 [==============================] - 1s 896us/step - loss: 0.5227 - accuracy: 0.8045\n",
      "Epoch 40/100\n",
      "936/936 [==============================] - 1s 885us/step - loss: 0.5360 - accuracy: 0.7927\n",
      "Epoch 41/100\n",
      "936/936 [==============================] - 1s 1ms/step - loss: 0.5152 - accuracy: 0.8066\n",
      "Epoch 42/100\n",
      "936/936 [==============================] - 1s 999us/step - loss: 0.5073 - accuracy: 0.8077\n",
      "Epoch 43/100\n",
      "936/936 [==============================] - 1s 909us/step - loss: 0.5022 - accuracy: 0.7991\n",
      "Epoch 44/100\n",
      "936/936 [==============================] - 1s 990us/step - loss: 0.5172 - accuracy: 0.7970\n",
      "Epoch 45/100\n",
      "936/936 [==============================] - 1s 999us/step - loss: 0.5018 - accuracy: 0.8024\n",
      "Epoch 46/100\n",
      "936/936 [==============================] - 1s 950us/step - loss: 0.4765 - accuracy: 0.8141\n",
      "Epoch 47/100\n",
      "936/936 [==============================] - 1s 1000us/step - loss: 0.4793 - accuracy: 0.8259\n",
      "Epoch 48/100\n",
      "936/936 [==============================] - 1s 925us/step - loss: 0.4861 - accuracy: 0.8226\n",
      "Epoch 49/100\n",
      "936/936 [==============================] - 1s 1ms/step - loss: 0.4708 - accuracy: 0.8184\n",
      "Epoch 50/100\n",
      "936/936 [==============================] - 1s 1ms/step - loss: 0.4719 - accuracy: 0.8269\n",
      "Epoch 51/100\n",
      "936/936 [==============================] - 1s 1ms/step - loss: 0.4552 - accuracy: 0.8397\n",
      "Epoch 52/100\n",
      "936/936 [==============================] - 1s 933us/step - loss: 0.4530 - accuracy: 0.8365\n",
      "Epoch 53/100\n",
      "936/936 [==============================] - 1s 939us/step - loss: 0.4529 - accuracy: 0.8280\n",
      "Epoch 54/100\n",
      "936/936 [==============================] - 1s 940us/step - loss: 0.4388 - accuracy: 0.8365\n",
      "Epoch 55/100\n",
      "936/936 [==============================] - 1s 965us/step - loss: 0.4291 - accuracy: 0.8429\n",
      "Epoch 56/100\n",
      "936/936 [==============================] - 1s 941us/step - loss: 0.4460 - accuracy: 0.8237\n",
      "Epoch 57/100\n",
      "936/936 [==============================] - 1s 988us/step - loss: 0.4255 - accuracy: 0.8462\n",
      "Epoch 58/100\n",
      "936/936 [==============================] - 1s 979us/step - loss: 0.4130 - accuracy: 0.8472\n",
      "Epoch 59/100\n",
      "936/936 [==============================] - 1s 974us/step - loss: 0.4149 - accuracy: 0.8526\n",
      "Epoch 60/100\n",
      "936/936 [==============================] - 1s 972us/step - loss: 0.4092 - accuracy: 0.8462\n",
      "Epoch 61/100\n",
      "936/936 [==============================] - 1s 1ms/step - loss: 0.4017 - accuracy: 0.8547\n",
      "Epoch 62/100\n",
      "936/936 [==============================] - 1s 1ms/step - loss: 0.4251 - accuracy: 0.8547\n",
      "Epoch 63/100\n",
      "936/936 [==============================] - 1s 969us/step - loss: 0.4109 - accuracy: 0.8536\n",
      "Epoch 64/100\n",
      "936/936 [==============================] - 1s 1ms/step - loss: 0.3868 - accuracy: 0.8611\n",
      "Epoch 65/100\n",
      "936/936 [==============================] - 1s 1ms/step - loss: 0.3818 - accuracy: 0.8526\n",
      "Epoch 66/100\n",
      "936/936 [==============================] - 1s 991us/step - loss: 0.3696 - accuracy: 0.8590\n",
      "Epoch 67/100\n",
      "936/936 [==============================] - 1s 994us/step - loss: 0.3868 - accuracy: 0.8579\n",
      "Epoch 68/100\n",
      "936/936 [==============================] - 1s 984us/step - loss: 0.3723 - accuracy: 0.8558\n",
      "Epoch 69/100\n",
      "936/936 [==============================] - 1s 959us/step - loss: 0.3666 - accuracy: 0.8707\n",
      "Epoch 70/100\n",
      "936/936 [==============================] - 1s 935us/step - loss: 0.3585 - accuracy: 0.8654\n",
      "Epoch 71/100\n",
      "936/936 [==============================] - 1s 994us/step - loss: 0.3720 - accuracy: 0.8643\n",
      "Epoch 72/100\n",
      "936/936 [==============================] - 1s 996us/step - loss: 0.3580 - accuracy: 0.8590\n",
      "Epoch 73/100\n",
      "936/936 [==============================] - 1s 1ms/step - loss: 0.3443 - accuracy: 0.8707\n",
      "Epoch 74/100\n",
      "936/936 [==============================] - 1s 1ms/step - loss: 0.3559 - accuracy: 0.8632\n",
      "Epoch 75/100\n",
      "936/936 [==============================] - 1s 992us/step - loss: 0.3346 - accuracy: 0.8761\n",
      "Epoch 76/100\n",
      "936/936 [==============================] - 1s 930us/step - loss: 0.3347 - accuracy: 0.8707\n",
      "Epoch 77/100\n",
      "936/936 [==============================] - 1s 1ms/step - loss: 0.3417 - accuracy: 0.8771\n",
      "Epoch 78/100\n",
      "936/936 [==============================] - 1s 1ms/step - loss: 0.3330 - accuracy: 0.8729\n",
      "Epoch 79/100\n",
      "936/936 [==============================] - 1s 966us/step - loss: 0.3138 - accuracy: 0.8889\n",
      "Epoch 80/100\n",
      "936/936 [==============================] - 1s 924us/step - loss: 0.3349 - accuracy: 0.8814\n",
      "Epoch 81/100\n",
      "936/936 [==============================] - 1s 987us/step - loss: 0.3213 - accuracy: 0.8825\n",
      "Epoch 82/100\n",
      "936/936 [==============================] - 1s 941us/step - loss: 0.3177 - accuracy: 0.8814\n",
      "Epoch 83/100\n",
      "936/936 [==============================] - 1s 944us/step - loss: 0.2973 - accuracy: 0.8921\n",
      "Epoch 84/100\n",
      "936/936 [==============================] - 1s 930us/step - loss: 0.3292 - accuracy: 0.8675\n",
      "Epoch 85/100\n",
      "936/936 [==============================] - 1s 979us/step - loss: 0.3040 - accuracy: 0.8953\n",
      "Epoch 86/100\n",
      "936/936 [==============================] - 1s 1ms/step - loss: 0.2870 - accuracy: 0.8932\n",
      "Epoch 87/100\n",
      "936/936 [==============================] - 1s 1ms/step - loss: 0.2924 - accuracy: 0.9017\n",
      "Epoch 88/100\n",
      "936/936 [==============================] - 1s 1ms/step - loss: 0.2884 - accuracy: 0.9006\n",
      "Epoch 89/100\n",
      "936/936 [==============================] - 1s 1ms/step - loss: 0.2848 - accuracy: 0.8974\n",
      "Epoch 90/100\n",
      "936/936 [==============================] - 1s 1ms/step - loss: 0.2737 - accuracy: 0.9049\n",
      "Epoch 91/100\n",
      "936/936 [==============================] - 1s 964us/step - loss: 0.2925 - accuracy: 0.8932\n",
      "Epoch 92/100\n",
      "936/936 [==============================] - 1s 941us/step - loss: 0.2950 - accuracy: 0.8910\n",
      "Epoch 93/100\n",
      "936/936 [==============================] - 1s 999us/step - loss: 0.2699 - accuracy: 0.9092\n",
      "Epoch 94/100\n",
      "936/936 [==============================] - 1s 1ms/step - loss: 0.2703 - accuracy: 0.9017\n",
      "Epoch 95/100\n",
      "936/936 [==============================] - 1s 1ms/step - loss: 0.2618 - accuracy: 0.9092\n",
      "Epoch 96/100\n",
      "936/936 [==============================] - 1s 945us/step - loss: 0.2637 - accuracy: 0.9017\n",
      "Epoch 97/100\n",
      "936/936 [==============================] - 1s 966us/step - loss: 0.2933 - accuracy: 0.8942\n",
      "Epoch 98/100\n",
      "936/936 [==============================] - 1s 931us/step - loss: 0.2741 - accuracy: 0.9081\n",
      "Epoch 99/100\n",
      "936/936 [==============================] - 1s 1ms/step - loss: 0.2416 - accuracy: 0.9071\n",
      "Epoch 100/100\n",
      "936/936 [==============================] - 1s 1ms/step - loss: 0.2696 - accuracy: 0.9038\n"
     ]
    }
   ],
   "source": [
    "# Compile and fit the model with the numerical labels\n",
    "model.compile(optimizer='adam',\n",
    "              loss='sparse_categorical_crossentropy',\n",
    "              metrics=['accuracy'])\n",
    "\n",
    "training_history = model.fit(X_train, y_train_encoded, epochs=100, batch_size=1, verbose=1, use_multiprocessing=True)\n"
   ]
  },
  {
   "cell_type": "markdown",
   "metadata": {},
   "source": [
    "Guardamos el modelo para referencia a futuro."
   ]
  },
  {
   "cell_type": "code",
   "execution_count": null,
   "metadata": {},
   "outputs": [],
   "source": [
    "import datetime\n",
    "# Save model with the name \"model_\" + the current date and time as h5 file\n",
    "model.save(\"../models/model_data_per_second_\" + datetime.datetime.now().strftime(\"%Y%m%d%H%M%S\") + \".h5\")\n",
    "\n",
    "# model.save(\"model_data_per_second_202402020202.h5\")"
   ]
  },
  {
   "cell_type": "markdown",
   "metadata": {},
   "source": [
    "---\n",
    "\n",
    "## Training checkpoint! \n",
    "Arriba se guardo el modelo recientemente entrenado, salido del horno... Desde aca en adelante podemos cargarlo para revisarlo mejor. (o no, si ya estaba cargado)"
   ]
  },
  {
   "cell_type": "code",
   "execution_count": 26,
   "metadata": {},
   "outputs": [],
   "source": [
    "\n",
    "import tensorflow as tf\n",
    "from tensorflow import keras\n",
    "# Load model\n",
    "model = keras.models.load_model('../models/model_data_per_second_202402020202.h5')"
   ]
  },
  {
   "cell_type": "code",
   "execution_count": 27,
   "metadata": {},
   "outputs": [
    {
     "name": "stderr",
     "output_type": "stream",
     "text": [
      "2024-03-14 22:53:46.441615: I tensorflow/compiler/mlir/mlir_graph_optimization_pass.cc:185] None of the MLIR Optimization Passes are enabled (registered 2)\n"
     ]
    },
    {
     "name": "stdout",
     "output_type": "stream",
     "text": [
      "8/8 [==============================] - 0s 2ms/step - loss: 2.5723 - accuracy: 0.6043\n"
     ]
    },
    {
     "data": {
      "text/plain": [
       "[2.5723276138305664, 0.6042553186416626]"
      ]
     },
     "execution_count": 27,
     "metadata": {},
     "output_type": "execute_result"
    }
   ],
   "source": [
    "from sklearn.preprocessing import LabelEncoder\n",
    "\n",
    "# Convert the target variable to numerical labels\n",
    "label_encoder = LabelEncoder()\n",
    "y_test_encoded = label_encoder.fit_transform(y_test)\n",
    "\n",
    "\n",
    "# Evaluate the model with the one-hot encoded target variable\n",
    "model.evaluate(X_test, y_test_encoded)\n"
   ]
  },
  {
   "cell_type": "markdown",
   "metadata": {},
   "source": [
    "Vemos que esta interpretacion base no se comporta del todo bien que digamos, un 60% de accuracy nada mas con el set de prueba. Igual podemos ver que capaz un problema que no corregimos fue la desproporcionalidad de muestras de cada evento en la celda superior. Podriamos emparejar los numeros de muestra para ver que tan bien se comporta esta red base. "
   ]
  },
  {
   "cell_type": "code",
   "execution_count": 30,
   "metadata": {},
   "outputs": [
    {
     "data": {
      "text/plain": [
       "<AxesSubplot:xlabel='True Label', ylabel='count'>"
      ]
     },
     "execution_count": 30,
     "metadata": {},
     "output_type": "execute_result"
    },
    {
     "data": {
      "image/png": "[encoded data removed]",
      "text/plain": [
       "<Figure size 1400x800 with 1 Axes>"
      ]
     },
     "metadata": {},
     "output_type": "display_data"
    }
   ],
   "source": [
    "import numpy as np\n",
    "\n",
    "# Get the predicted labels from the model\n",
    "y_pred = model.predict(X_test)\n",
    "\n",
    "# Convert the probabilities to class labels\n",
    "y_pred_labels = np.argmax(y_pred, axis=1)\n",
    "\n",
    "# Convert the encoded labels back to their original categories\n",
    "y_test_decoded = label_encoder.inverse_transform(y_test_encoded)\n",
    "y_pred_decoded = label_encoder.inverse_transform(y_pred_labels)\n",
    "\n",
    "# Create a DataFrame with the true labels and predicted labels\n",
    "results_df = pd.DataFrame({'True Label': y_test_decoded, 'Predicted Label': y_pred_decoded})\n",
    "\n",
    "# Add a column to indicate if the prediction was correct or incorrect\n",
    "results_df['Prediction'] = results_df['True Label'] == results_df['Predicted Label']\n",
    "\n",
    "# Plot the results using seaborn\n",
    "sns.countplot(x='True Label', hue='Prediction', data=results_df)\n"
   ]
  },
  {
   "cell_type": "code",
   "execution_count": 34,
   "metadata": {},
   "outputs": [
    {
     "data": {
      "image/png": "[encoded data removed]",
      "text/plain": [
       "<Figure size 1000x600 with 1 Axes>"
      ]
     },
     "metadata": {},
     "output_type": "display_data"
    }
   ],
   "source": [
    "import matplotlib.pyplot as plt\n",
    "import seaborn as sns\n",
    "\n",
    "# Calculate accuracy per class\n",
    "accuracy_per_class = results_df['True Label'] == results_df['Predicted Label']\n",
    "accuracy_per_class = accuracy_per_class.groupby(results_df['True Label']).mean()\n",
    "\n",
    "# Plot the graph\n",
    "plt.figure(figsize=(10, 6))\n",
    "sns.barplot(x=accuracy_per_class.index, y=accuracy_per_class.values)\n",
    "plt.axhline(y=0.5, color='red', linestyle='--')\n",
    "\n",
    "plt.title('Accuracy per Class')\n",
    "plt.xlabel('Class')\n",
    "plt.ylabel('Accuracy')\n",
    "plt.show()\n"
   ]
  },
  {
   "cell_type": "code",
   "execution_count": 1,
   "metadata": {},
   "outputs": [
    {
     "name": "stdout",
     "output_type": "stream",
     "text": [
      "Python 3.11.8\n"
     ]
    }
   ],
   "source": [
    "!python --version"
   ]
  }
 ],
 "metadata": {
  "kernelspec": {
   "display_name": "dev-tf2",
   "language": "python",
   "name": "dev-tf2"
  },
  "language_info": {
   "codemirror_mode": {
    "name": "ipython",
    "version": 3
   },
   "file_extension": ".py",
   "mimetype": "text/x-python",
   "name": "python",
   "nbconvert_exporter": "python",
   "pygments_lexer": "ipython3",
   "version": "3.10.14"
  }
 },
 "nbformat": 4,
 "nbformat_minor": 4
}

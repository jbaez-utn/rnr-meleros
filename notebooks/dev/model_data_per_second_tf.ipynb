{
 "cells": [
  {
   "cell_type": "markdown",
   "metadata": {},
   "source": [
    "# Modelos usando tensorflow: Muestras por segundo\n",
    "\n",
    "Recopilacion de modelos implementados principalmente usando tensorflow. \n",
    "\n",
    "Imports y herramientas usadas:"
   ]
  },
  {
   "cell_type": "code",
   "execution_count": 4,
   "metadata": {},
   "outputs": [],
   "source": [
    "import numpy as np\n",
    "import tensorflow as tf\n",
    "from tensorflow import keras\n",
    "import pandas as pd\n",
    "import seaborn as sns\n",
    "from pylab import rcParams\n",
    "import matplotlib.pyplot as plt\n",
    "from sklearn.model_selection import train_test_split\n",
    "\n",
    "sns.set(style='whitegrid', palette='muted', font_scale=1.2)\n",
    "rcParams['figure.figsize'] = 14, 8 \n",
    "RANDOM_SEED = 42\n",
    "np.random.seed(RANDOM_SEED)"
   ]
  },
  {
   "cell_type": "markdown",
   "metadata": {},
   "source": [
    "Procedemos entontes a la carga y preprocesado de datos. "
   ]
  },
  {
   "cell_type": "code",
   "execution_count": 5,
   "metadata": {},
   "outputs": [],
   "source": [
    "data_path = \"../../data/1-intermedia/resumen-comportamientos_Matilda_dataset_per_second.csv\""
   ]
  },
  {
   "cell_type": "markdown",
   "metadata": {},
   "source": [
    "Comenzamos analizando los datos de entrada. Revisamos el tamaño, la forma y las columnas que tiene."
   ]
  },
  {
   "cell_type": "code",
   "execution_count": 6,
   "metadata": {},
   "outputs": [],
   "source": [
    "data_raw = pd.read_csv(data_path)"
   ]
  },
  {
   "cell_type": "code",
   "execution_count": 7,
   "metadata": {},
   "outputs": [
    {
     "name": "stdout",
     "output_type": "stream",
     "text": [
      "NaN values: 0\n"
     ]
    }
   ],
   "source": [
    "# Do we have NaN values in data_raw?\n",
    "print(f\"NaN values: {data_raw.isna().sum().sum()}\")"
   ]
  },
  {
   "cell_type": "code",
   "execution_count": 8,
   "metadata": {},
   "outputs": [
    {
     "data": {
      "text/html": [
       "<div>\n",
       "<style scoped>\n",
       "    .dataframe tbody tr th:only-of-type {\n",
       "        vertical-align: middle;\n",
       "    }\n",
       "\n",
       "    .dataframe tbody tr th {\n",
       "        vertical-align: top;\n",
       "    }\n",
       "\n",
       "    .dataframe thead th {\n",
       "        text-align: right;\n",
       "    }\n",
       "</style>\n",
       "<table border=\"1\" class=\"dataframe\">\n",
       "  <thead>\n",
       "    <tr style=\"text-align: right;\">\n",
       "      <th></th>\n",
       "      <th>x_0</th>\n",
       "      <th>y_0</th>\n",
       "      <th>z_0</th>\n",
       "      <th>ODBA_0</th>\n",
       "      <th>x_1</th>\n",
       "      <th>y_1</th>\n",
       "      <th>z_1</th>\n",
       "      <th>ODBA_1</th>\n",
       "      <th>x_2</th>\n",
       "      <th>y_2</th>\n",
       "      <th>...</th>\n",
       "      <th>z_7</th>\n",
       "      <th>ODBA_7</th>\n",
       "      <th>x_8</th>\n",
       "      <th>y_8</th>\n",
       "      <th>z_8</th>\n",
       "      <th>ODBA_8</th>\n",
       "      <th>x_9</th>\n",
       "      <th>y_9</th>\n",
       "      <th>z_9</th>\n",
       "      <th>ODBA_9</th>\n",
       "    </tr>\n",
       "  </thead>\n",
       "  <tbody>\n",
       "    <tr>\n",
       "      <th>count</th>\n",
       "      <td>1240.000000</td>\n",
       "      <td>1240.000000</td>\n",
       "      <td>1240.000000</td>\n",
       "      <td>1240.000000</td>\n",
       "      <td>1240.000000</td>\n",
       "      <td>1240.000000</td>\n",
       "      <td>1240.000000</td>\n",
       "      <td>1240.000000</td>\n",
       "      <td>1240.000000</td>\n",
       "      <td>1240.000000</td>\n",
       "      <td>...</td>\n",
       "      <td>1240.000000</td>\n",
       "      <td>1240.000000</td>\n",
       "      <td>1240.000000</td>\n",
       "      <td>1240.000000</td>\n",
       "      <td>1240.000000</td>\n",
       "      <td>1240.000000</td>\n",
       "      <td>1240.000000</td>\n",
       "      <td>1240.000000</td>\n",
       "      <td>1240.000000</td>\n",
       "      <td>1240.000000</td>\n",
       "    </tr>\n",
       "    <tr>\n",
       "      <th>mean</th>\n",
       "      <td>0.215241</td>\n",
       "      <td>0.116638</td>\n",
       "      <td>0.758530</td>\n",
       "      <td>0.298850</td>\n",
       "      <td>0.214296</td>\n",
       "      <td>0.113839</td>\n",
       "      <td>0.752203</td>\n",
       "      <td>0.295632</td>\n",
       "      <td>0.213589</td>\n",
       "      <td>0.117898</td>\n",
       "      <td>...</td>\n",
       "      <td>0.754686</td>\n",
       "      <td>0.303678</td>\n",
       "      <td>0.210933</td>\n",
       "      <td>0.117080</td>\n",
       "      <td>0.757042</td>\n",
       "      <td>0.296563</td>\n",
       "      <td>0.210920</td>\n",
       "      <td>0.122132</td>\n",
       "      <td>0.755353</td>\n",
       "      <td>0.304522</td>\n",
       "    </tr>\n",
       "    <tr>\n",
       "      <th>std</th>\n",
       "      <td>0.374927</td>\n",
       "      <td>0.263871</td>\n",
       "      <td>0.297255</td>\n",
       "      <td>0.254621</td>\n",
       "      <td>0.380278</td>\n",
       "      <td>0.266080</td>\n",
       "      <td>0.321738</td>\n",
       "      <td>0.329812</td>\n",
       "      <td>0.377200</td>\n",
       "      <td>0.266825</td>\n",
       "      <td>...</td>\n",
       "      <td>0.297195</td>\n",
       "      <td>0.264788</td>\n",
       "      <td>0.378386</td>\n",
       "      <td>0.261031</td>\n",
       "      <td>0.300800</td>\n",
       "      <td>0.267159</td>\n",
       "      <td>0.377138</td>\n",
       "      <td>0.264529</td>\n",
       "      <td>0.295316</td>\n",
       "      <td>0.279301</td>\n",
       "    </tr>\n",
       "    <tr>\n",
       "      <th>min</th>\n",
       "      <td>-1.015600</td>\n",
       "      <td>-0.890600</td>\n",
       "      <td>-0.375000</td>\n",
       "      <td>0.007790</td>\n",
       "      <td>-1.046900</td>\n",
       "      <td>-1.265600</td>\n",
       "      <td>-3.906300</td>\n",
       "      <td>0.004187</td>\n",
       "      <td>-1.000000</td>\n",
       "      <td>-0.953100</td>\n",
       "      <td>...</td>\n",
       "      <td>-0.453100</td>\n",
       "      <td>0.003690</td>\n",
       "      <td>-1.546900</td>\n",
       "      <td>-0.984400</td>\n",
       "      <td>-0.421900</td>\n",
       "      <td>0.007767</td>\n",
       "      <td>-1.234400</td>\n",
       "      <td>-0.968800</td>\n",
       "      <td>-0.406300</td>\n",
       "      <td>0.004140</td>\n",
       "    </tr>\n",
       "    <tr>\n",
       "      <th>25%</th>\n",
       "      <td>0.015600</td>\n",
       "      <td>-0.046900</td>\n",
       "      <td>0.656300</td>\n",
       "      <td>0.101486</td>\n",
       "      <td>0.015600</td>\n",
       "      <td>-0.046900</td>\n",
       "      <td>0.656300</td>\n",
       "      <td>0.099504</td>\n",
       "      <td>0.015600</td>\n",
       "      <td>-0.046900</td>\n",
       "      <td>...</td>\n",
       "      <td>0.625000</td>\n",
       "      <td>0.104721</td>\n",
       "      <td>0.000000</td>\n",
       "      <td>-0.031300</td>\n",
       "      <td>0.656300</td>\n",
       "      <td>0.097410</td>\n",
       "      <td>0.000000</td>\n",
       "      <td>-0.031300</td>\n",
       "      <td>0.640600</td>\n",
       "      <td>0.101443</td>\n",
       "    </tr>\n",
       "    <tr>\n",
       "      <th>50%</th>\n",
       "      <td>0.125000</td>\n",
       "      <td>0.140600</td>\n",
       "      <td>0.875000</td>\n",
       "      <td>0.236155</td>\n",
       "      <td>0.125000</td>\n",
       "      <td>0.140600</td>\n",
       "      <td>0.875000</td>\n",
       "      <td>0.223923</td>\n",
       "      <td>0.125000</td>\n",
       "      <td>0.140600</td>\n",
       "      <td>...</td>\n",
       "      <td>0.875000</td>\n",
       "      <td>0.237535</td>\n",
       "      <td>0.125000</td>\n",
       "      <td>0.125000</td>\n",
       "      <td>0.875000</td>\n",
       "      <td>0.226552</td>\n",
       "      <td>0.125000</td>\n",
       "      <td>0.140600</td>\n",
       "      <td>0.875000</td>\n",
       "      <td>0.230173</td>\n",
       "    </tr>\n",
       "    <tr>\n",
       "      <th>75%</th>\n",
       "      <td>0.359400</td>\n",
       "      <td>0.281300</td>\n",
       "      <td>0.937500</td>\n",
       "      <td>0.419188</td>\n",
       "      <td>0.359400</td>\n",
       "      <td>0.296900</td>\n",
       "      <td>0.921900</td>\n",
       "      <td>0.409158</td>\n",
       "      <td>0.375000</td>\n",
       "      <td>0.296900</td>\n",
       "      <td>...</td>\n",
       "      <td>0.937500</td>\n",
       "      <td>0.419957</td>\n",
       "      <td>0.359400</td>\n",
       "      <td>0.296900</td>\n",
       "      <td>0.937500</td>\n",
       "      <td>0.397898</td>\n",
       "      <td>0.347700</td>\n",
       "      <td>0.296900</td>\n",
       "      <td>0.937500</td>\n",
       "      <td>0.412864</td>\n",
       "    </tr>\n",
       "    <tr>\n",
       "      <th>max</th>\n",
       "      <td>1.031300</td>\n",
       "      <td>1.250000</td>\n",
       "      <td>1.343800</td>\n",
       "      <td>2.029297</td>\n",
       "      <td>2.328100</td>\n",
       "      <td>1.125000</td>\n",
       "      <td>1.468800</td>\n",
       "      <td>7.951573</td>\n",
       "      <td>1.234400</td>\n",
       "      <td>0.968800</td>\n",
       "      <td>...</td>\n",
       "      <td>1.406300</td>\n",
       "      <td>1.908370</td>\n",
       "      <td>1.062500</td>\n",
       "      <td>1.031300</td>\n",
       "      <td>1.390600</td>\n",
       "      <td>1.986470</td>\n",
       "      <td>1.046900</td>\n",
       "      <td>1.125000</td>\n",
       "      <td>1.406300</td>\n",
       "      <td>2.283370</td>\n",
       "    </tr>\n",
       "  </tbody>\n",
       "</table>\n",
       "<p>8 rows × 40 columns</p>\n",
       "</div>"
      ],
      "text/plain": [
       "               x_0          y_0          z_0       ODBA_0          x_1  \\\n",
       "count  1240.000000  1240.000000  1240.000000  1240.000000  1240.000000   \n",
       "mean      0.215241     0.116638     0.758530     0.298850     0.214296   \n",
       "std       0.374927     0.263871     0.297255     0.254621     0.380278   \n",
       "min      -1.015600    -0.890600    -0.375000     0.007790    -1.046900   \n",
       "25%       0.015600    -0.046900     0.656300     0.101486     0.015600   \n",
       "50%       0.125000     0.140600     0.875000     0.236155     0.125000   \n",
       "75%       0.359400     0.281300     0.937500     0.419188     0.359400   \n",
       "max       1.031300     1.250000     1.343800     2.029297     2.328100   \n",
       "\n",
       "               y_1          z_1       ODBA_1          x_2          y_2  ...  \\\n",
       "count  1240.000000  1240.000000  1240.000000  1240.000000  1240.000000  ...   \n",
       "mean      0.113839     0.752203     0.295632     0.213589     0.117898  ...   \n",
       "std       0.266080     0.321738     0.329812     0.377200     0.266825  ...   \n",
       "min      -1.265600    -3.906300     0.004187    -1.000000    -0.953100  ...   \n",
       "25%      -0.046900     0.656300     0.099504     0.015600    -0.046900  ...   \n",
       "50%       0.140600     0.875000     0.223923     0.125000     0.140600  ...   \n",
       "75%       0.296900     0.921900     0.409158     0.375000     0.296900  ...   \n",
       "max       1.125000     1.468800     7.951573     1.234400     0.968800  ...   \n",
       "\n",
       "               z_7       ODBA_7          x_8          y_8          z_8  \\\n",
       "count  1240.000000  1240.000000  1240.000000  1240.000000  1240.000000   \n",
       "mean      0.754686     0.303678     0.210933     0.117080     0.757042   \n",
       "std       0.297195     0.264788     0.378386     0.261031     0.300800   \n",
       "min      -0.453100     0.003690    -1.546900    -0.984400    -0.421900   \n",
       "25%       0.625000     0.104721     0.000000    -0.031300     0.656300   \n",
       "50%       0.875000     0.237535     0.125000     0.125000     0.875000   \n",
       "75%       0.937500     0.419957     0.359400     0.296900     0.937500   \n",
       "max       1.406300     1.908370     1.062500     1.031300     1.390600   \n",
       "\n",
       "            ODBA_8          x_9          y_9          z_9       ODBA_9  \n",
       "count  1240.000000  1240.000000  1240.000000  1240.000000  1240.000000  \n",
       "mean      0.296563     0.210920     0.122132     0.755353     0.304522  \n",
       "std       0.267159     0.377138     0.264529     0.295316     0.279301  \n",
       "min       0.007767    -1.234400    -0.968800    -0.406300     0.004140  \n",
       "25%       0.097410     0.000000    -0.031300     0.640600     0.101443  \n",
       "50%       0.226552     0.125000     0.140600     0.875000     0.230173  \n",
       "75%       0.397898     0.347700     0.296900     0.937500     0.412864  \n",
       "max       1.986470     1.046900     1.125000     1.406300     2.283370  \n",
       "\n",
       "[8 rows x 40 columns]"
      ]
     },
     "execution_count": 8,
     "metadata": {},
     "output_type": "execute_result"
    }
   ],
   "source": [
    "data_raw.describe()"
   ]
  },
  {
   "cell_type": "code",
   "execution_count": 9,
   "metadata": {},
   "outputs": [
    {
     "data": {
      "text/plain": [
       "(1240, 41)"
      ]
     },
     "execution_count": 9,
     "metadata": {},
     "output_type": "execute_result"
    }
   ],
   "source": [
    "data_raw.shape"
   ]
  },
  {
   "cell_type": "code",
   "execution_count": 10,
   "metadata": {},
   "outputs": [
    {
     "data": {
      "text/plain": [
       "Index(['x_0', 'y_0', 'z_0', 'ODBA_0', 'x_1', 'y_1', 'z_1', 'ODBA_1', 'x_2',\n",
       "       'y_2', 'z_2', 'ODBA_2', 'x_3', 'y_3', 'z_3', 'ODBA_3', 'x_4', 'y_4',\n",
       "       'z_4', 'ODBA_4', 'x_5', 'y_5', 'z_5', 'ODBA_5', 'x_6', 'y_6', 'z_6',\n",
       "       'ODBA_6', 'x_7', 'y_7', 'z_7', 'ODBA_7', 'x_8', 'y_8', 'z_8', 'ODBA_8',\n",
       "       'x_9', 'y_9', 'z_9', 'ODBA_9', 'Comportamiento'],\n",
       "      dtype='object')"
      ]
     },
     "execution_count": 10,
     "metadata": {},
     "output_type": "execute_result"
    }
   ],
   "source": [
    "data_raw.columns"
   ]
  },
  {
   "cell_type": "markdown",
   "metadata": {},
   "source": [
    "# 1 - Analisis de datos\n",
    "El primer paso es analizar los datos disponibles. En este caso, usamos seaborn para graficar la cantidad de muestras que tenemos por cada tipo de comportamiento en el dataset seleccionado. "
   ]
  },
  {
   "cell_type": "code",
   "execution_count": 11,
   "metadata": {},
   "outputs": [
    {
     "data": {
      "text/plain": [
       "Text(0.5, 1.0, 'Comportamiento de Matilda')"
      ]
     },
     "execution_count": 11,
     "metadata": {},
     "output_type": "execute_result"
    },
    {
     "data": {
      "image/png": "[encoded data removed]",
      "text/plain": [
       "<Figure size 1400x800 with 1 Axes>"
      ]
     },
     "metadata": {},
     "output_type": "display_data"
    }
   ],
   "source": [
    "f = sns.countplot(x='Comportamiento', data=data_raw)\n",
    "f.set_title('Comportamiento de Matilda')"
   ]
  },
  {
   "cell_type": "markdown",
   "metadata": {},
   "source": [
    "Removemos los outliers, valores de ODBA fuera de rangos logicos generales. Vamos a considerar 3 desviaciones estandar, lo que se llama numero de z-scores. Esto es porque los valores fuera de 3 desviaciones estandard de la media no tienen mucha logica de ser. "
   ]
  },
  {
   "cell_type": "code",
   "execution_count": 12,
   "metadata": {},
   "outputs": [
    {
     "name": "stdout",
     "output_type": "stream",
     "text": [
      "(12400,)\n",
      "[0.83021 1.28341 1.12711 1.17411 1.29901 0.83021 0.90831 0.65841 0.55527\n",
      " 0.39261]\n",
      "NaN values: 0\n",
      "Mean: 0.2944537333333333\n",
      "Standard deviation: 0.2669794553346632\n",
      "      x_0     y_0     z_0    ODBA_0     x_1     y_1     z_1    ODBA_1     x_2  \\\n",
      "0  0.0781  0.0781  0.9375  0.830210 -0.1563  0.2031  1.0313  1.283410 -0.0625   \n",
      "1 -0.0625 -0.1406  1.0000  0.237990  0.0313  0.0469  0.7031  0.450650  0.0469   \n",
      "2 -0.0469  0.3906  0.8281  0.591150 -0.1094  0.3438  0.9688  0.465190 -0.0625   \n",
      "3 -0.1875 -0.1250  0.9375  0.174450 -0.1875 -0.0938  0.9531  0.158850 -0.1563   \n",
      "4 -0.2500 -0.0313  0.9688  0.225593 -0.2656 -0.0469  0.8750  0.234887 -0.2500   \n",
      "\n",
      "      y_2  ...  ODBA_0_zscore  ODBA_1_zscore  ODBA_2_zscore  ODBA_3_zscore  \\\n",
      "0  0.2344  ...       2.006732       3.704241       3.118803       3.294846   \n",
      "1  0.3125  ...      -0.211491       0.585050       1.341812       0.467438   \n",
      "2  0.1719  ...       1.111307       0.639511       0.112504      -0.706960   \n",
      "3 -0.1250  ...      -0.449487      -0.507918      -0.449112      -0.449112   \n",
      "4 -0.0469  ...      -0.257924      -0.223115      -0.339978      -0.316730   \n",
      "\n",
      "   ODBA_4_zscore  ODBA_5_zscore  ODBA_6_zscore  ODBA_7_zscore  ODBA_8_zscore  \\\n",
      "0       3.762673       2.006732       2.299264       1.363237       0.976915   \n",
      "1      -0.211491       0.728881       1.076249       0.670450       0.467438   \n",
      "2      -0.035747       0.198728       0.315216      -0.156580      -0.328279   \n",
      "3      -0.387085      -0.273818      -0.562379      -0.535261      -0.297190   \n",
      "4      -0.199867      -0.258299      -0.316730      -0.258299      -0.433593   \n",
      "\n",
      "   ODBA_9_zscore  \n",
      "0       0.367655  \n",
      "1       0.346230  \n",
      "2      -0.098149  \n",
      "3      -0.418024  \n",
      "4      -0.516021  \n",
      "\n",
      "[5 rows x 51 columns]\n",
      "Original data shape: (1240, 41)\n",
      "Data without outliers filtered by ODBA value: (1171, 41)\n"
     ]
    }
   ],
   "source": [
    "# Create new dataframe to calculate outliers\n",
    "data_outlier_calc = data_raw.copy()\n",
    "\n",
    "# Create new numpy array from ODBA columns\n",
    "aux_combined_data = data_outlier_calc[['ODBA_0', 'ODBA_1', 'ODBA_2', 'ODBA_3', 'ODBA_4', 'ODBA_5', 'ODBA_6', 'ODBA_7', 'ODBA_8', 'ODBA_9']].to_numpy()\n",
    "aux_combined_data = np.concatenate(aux_combined_data)\n",
    "\n",
    "# Check combined data shape and head\n",
    "print(aux_combined_data.shape)\n",
    "print(aux_combined_data[:10])\n",
    "\n",
    "# Print nan values in combined data\n",
    "print(f\"NaN values: {np.isnan(aux_combined_data).sum()}\")\n",
    "\n",
    "# Calculate mean and standard deviation\n",
    "mean_ODBA = np.nanmean(aux_combined_data)\n",
    "std_ODBA = np.nanstd(aux_combined_data)\n",
    "\n",
    "# Print mean and standard deviation\n",
    "print(f\"Mean: {mean_ODBA}\")\n",
    "print(f\"Standard deviation: {std_ODBA}\")\n",
    "\n",
    "# Calculate z-score for each ODBA value\n",
    "for i in range(10):\n",
    "    column_name = f'ODBA_{i}'\n",
    "    data_outlier_calc[column_name + '_zscore'] = (data_outlier_calc[column_name] - mean_ODBA) / std_ODBA\n",
    "\n",
    "# Print first 5 rows of the new dataframe\n",
    "print(data_outlier_calc.head())\n",
    "\n",
    "# Create new dataframe to filter outliers\n",
    "data_no_outliers = data_outlier_calc.copy()\n",
    "\n",
    "# Filter outliers by z-score outside of -3 and 3\n",
    "for i in range(10):\n",
    "    column_name = f'ODBA_{i}'\n",
    "    data_no_outliers = data_no_outliers.loc[data_no_outliers[column_name + '_zscore'].abs() <= 3]\n",
    "\n",
    "# Clean z-score columns\n",
    "data_no_outliers = data_no_outliers.drop(columns=['ODBA_0_zscore', 'ODBA_1_zscore', 'ODBA_2_zscore', 'ODBA_3_zscore', 'ODBA_4_zscore', 'ODBA_5_zscore', 'ODBA_6_zscore', 'ODBA_7_zscore', 'ODBA_8_zscore', 'ODBA_9_zscore'])\n",
    "\n",
    "# Print the shape of both dataframes\n",
    "print(f\"Original data shape: {data_raw.shape}\")\n",
    "print(f\"Data without outliers filtered by ODBA value: {data_no_outliers.shape}\")\n"
   ]
  },
  {
   "cell_type": "markdown",
   "metadata": {},
   "source": [
    "En el analisis inicial realizado para datos por fila simple, fueron registrados con distintos puntos de colores de acuerdo a los valores medidos de _X_, _Y_ y _Z_ vs el _ODBA_. En este caso, como la cantidad de entrada es 40, no podemos realizar el mismo grafico. Lo que si podriamos es graficar los valores promedios medidos durante el segundo en particular."
   ]
  },
  {
   "cell_type": "markdown",
   "metadata": {},
   "source": [
    "# 2- Preparacion de datos\n",
    "\n",
    "Procedemos entonces con el siguiente paso: escalar los datos para que tengan valores entre -1 y 1, para darle de ingesta al modelo de red neuronal, cuyas capas de entrada reciben valores continuos entre esos valores, usando el objeto MinMaxScaler de la librería Scikit Learn.  "
   ]
  },
  {
   "cell_type": "code",
   "execution_count": 13,
   "metadata": {},
   "outputs": [
    {
     "name": "stdout",
     "output_type": "stream",
     "text": [
      "scaled_data type: <class 'numpy.ndarray'>\n",
      "scaled_df type: <class 'pandas.core.frame.DataFrame'> scaled_df shape: (1171, 40)\n",
      "(1171, 41)\n"
     ]
    }
   ],
   "source": [
    "from sklearn.preprocessing import MinMaxScaler\n",
    "\n",
    "# Create a MinMaxScaler object\n",
    "scaler = MinMaxScaler(feature_range=(-1, 1))\n",
    "\n",
    "# Scale the data\n",
    "scaled_data = scaler.fit_transform(data_no_outliers.select_dtypes(include='float'))\n",
    "\n",
    "print(f\"scaled_data type: {type(scaled_data)}\")\n",
    "\n",
    "# Convert the numpy array to a dataframe\n",
    "scaled_df = pd.DataFrame(scaled_data, columns=data_no_outliers.select_dtypes(include='float').columns)\n",
    "print(f\"scaled_df type: {type(scaled_df)} scaled_df shape: {scaled_df.shape}\")\n",
    "\n",
    "# Append Comportamiento column to scaled dataframe\n",
    "scaled_df['Comportamiento'] = data_no_outliers['Comportamiento'].values\n",
    "\n",
    "# Print the scaled dataframe\n",
    "print(scaled_df.shape)\n"
   ]
  },
  {
   "cell_type": "markdown",
   "metadata": {},
   "source": [
    "Una vez esten escalados los datos, separamos en los sets de entrenamiento y pruebas. "
   ]
  },
  {
   "cell_type": "code",
   "execution_count": 14,
   "metadata": {},
   "outputs": [
    {
     "name": "stdout",
     "output_type": "stream",
     "text": [
      "Train data shape: (936, 41)\n",
      "Test data shape: (235, 41)\n"
     ]
    }
   ],
   "source": [
    "# Perform test-train split\n",
    "train_data, test_data = train_test_split(scaled_df, test_size=0.2, random_state=RANDOM_SEED)\n",
    "\n",
    "# Print the shapes of the train and test data\n",
    "print(\"Train data shape:\", train_data.shape)\n",
    "print(\"Test data shape:\", test_data.shape)\n",
    "\n",
    "# Prepare training and validation data for model.fit()\n",
    "X_train = train_data.drop(columns=['Comportamiento'])\n",
    "y_train = train_data['Comportamiento']\n",
    "X_test = test_data.drop(columns=['Comportamiento'])\n",
    "y_test = test_data['Comportamiento']\n"
   ]
  },
  {
   "cell_type": "markdown",
   "metadata": {},
   "source": [
    "Lo ultimo que tenemos que hacer es codificar los valores de salida para mapearlos a una neurona de salida por cada categoria. "
   ]
  },
  {
   "cell_type": "code",
   "execution_count": 15,
   "metadata": {},
   "outputs": [],
   "source": [
    "from sklearn.preprocessing import LabelEncoder\n",
    "\n",
    "# Convert the target variable to numerical labels\n",
    "label_encoder = LabelEncoder()\n",
    "y_train_encoded = label_encoder.fit_transform(y_train)"
   ]
  },
  {
   "cell_type": "markdown",
   "metadata": {},
   "source": [
    "Definimos el modelo a generar."
   ]
  },
  {
   "cell_type": "code",
   "execution_count": 16,
   "metadata": {},
   "outputs": [
    {
     "name": "stdout",
     "output_type": "stream",
     "text": [
      "Model: \"sequential\"\n",
      "_________________________________________________________________\n",
      " Layer (type)                Output Shape              Param #   \n",
      "=================================================================\n",
      " dense (Dense)               (None, 40)                1640      \n",
      "                                                                 \n",
      " dense_1 (Dense)             (None, 20)                820       \n",
      "                                                                 \n",
      " dense_2 (Dense)             (None, 10)                210       \n",
      "                                                                 \n",
      " dense_3 (Dense)             (None, 7)                 77        \n",
      "                                                                 \n",
      "=================================================================\n",
      "Total params: 2747 (10.73 KB)\n",
      "Trainable params: 2747 (10.73 KB)\n",
      "Non-trainable params: 0 (0.00 Byte)\n",
      "_________________________________________________________________\n"
     ]
    }
   ],
   "source": [
    "# Create new model with 40 columns as input, \"Comportamiento\" as cathegorical output, and 2 hidden layers with 20 and 10 neurons\n",
    "\n",
    "model = keras.Sequential([\n",
    "    keras.layers.Dense(40, input_shape=(40,), activation='relu'),\n",
    "    keras.layers.Dense(20, activation='relu'),\n",
    "    keras.layers.Dense(10, activation='relu'),\n",
    "    keras.layers.Dense(units=7, activation='softmax')\n",
    "])\n",
    "    \n",
    "model.summary()"
   ]
  },
  {
   "cell_type": "markdown",
   "metadata": {},
   "source": [
    "Compilamos el modelo y lo entrenamos. "
   ]
  },
  {
   "cell_type": "code",
   "execution_count": 17,
   "metadata": {},
   "outputs": [
    {
     "name": "stdout",
     "output_type": "stream",
     "text": [
      "Epoch 1/100\n",
      "936/936 [==============================] - 2s 2ms/step - loss: 1.3957 - accuracy: 0.4615\n",
      "Epoch 2/100\n",
      "936/936 [==============================] - 1s 2ms/step - loss: 1.0201 - accuracy: 0.5908\n",
      "Epoch 3/100\n",
      "936/936 [==============================] - 1s 1ms/step - loss: 0.9328 - accuracy: 0.6581\n",
      "Epoch 4/100\n",
      "936/936 [==============================] - 1s 1ms/step - loss: 0.8769 - accuracy: 0.6741\n",
      "Epoch 5/100\n",
      "936/936 [==============================] - 1s 2ms/step - loss: 0.8439 - accuracy: 0.6848\n",
      "Epoch 6/100\n",
      "936/936 [==============================] - 1s 1ms/step - loss: 0.8355 - accuracy: 0.6806\n",
      "Epoch 7/100\n",
      "936/936 [==============================] - 1s 1ms/step - loss: 0.8067 - accuracy: 0.6870\n",
      "Epoch 8/100\n",
      "936/936 [==============================] - 2s 2ms/step - loss: 0.7963 - accuracy: 0.6966\n",
      "Epoch 9/100\n",
      "936/936 [==============================] - 1s 1ms/step - loss: 0.7865 - accuracy: 0.6998\n",
      "Epoch 10/100\n",
      "936/936 [==============================] - 1s 2ms/step - loss: 0.7615 - accuracy: 0.7126\n",
      "Epoch 11/100\n",
      "936/936 [==============================] - 1s 1ms/step - loss: 0.7597 - accuracy: 0.7190\n",
      "Epoch 12/100\n",
      "936/936 [==============================] - 1s 1ms/step - loss: 0.7498 - accuracy: 0.7179\n",
      "Epoch 13/100\n",
      "936/936 [==============================] - 1s 1ms/step - loss: 0.7344 - accuracy: 0.7276\n",
      "Epoch 14/100\n",
      "936/936 [==============================] - 1s 1ms/step - loss: 0.7162 - accuracy: 0.7329\n",
      "Epoch 15/100\n",
      "936/936 [==============================] - 1s 2ms/step - loss: 0.7177 - accuracy: 0.7286\n",
      "Epoch 16/100\n",
      "936/936 [==============================] - 1s 1ms/step - loss: 0.6878 - accuracy: 0.7329\n",
      "Epoch 17/100\n",
      "936/936 [==============================] - 1s 1ms/step - loss: 0.7031 - accuracy: 0.7286\n",
      "Epoch 18/100\n",
      "936/936 [==============================] - 1s 2ms/step - loss: 0.6961 - accuracy: 0.7340\n",
      "Epoch 19/100\n",
      "936/936 [==============================] - 1s 1ms/step - loss: 0.6796 - accuracy: 0.7404\n",
      "Epoch 20/100\n",
      "936/936 [==============================] - 1s 1ms/step - loss: 0.6709 - accuracy: 0.7425\n",
      "Epoch 21/100\n",
      "936/936 [==============================] - 1s 2ms/step - loss: 0.6650 - accuracy: 0.7500\n",
      "Epoch 22/100\n",
      "936/936 [==============================] - 1s 1ms/step - loss: 0.6619 - accuracy: 0.7553\n",
      "Epoch 23/100\n",
      "936/936 [==============================] - 1s 2ms/step - loss: 0.6423 - accuracy: 0.7671\n",
      "Epoch 24/100\n",
      "936/936 [==============================] - 1s 1ms/step - loss: 0.6291 - accuracy: 0.7735\n",
      "Epoch 25/100\n",
      "936/936 [==============================] - 1s 2ms/step - loss: 0.6304 - accuracy: 0.7607\n",
      "Epoch 26/100\n",
      "936/936 [==============================] - 1s 2ms/step - loss: 0.6214 - accuracy: 0.7799\n",
      "Epoch 27/100\n",
      "936/936 [==============================] - 1s 1ms/step - loss: 0.6119 - accuracy: 0.7660\n",
      "Epoch 28/100\n",
      "936/936 [==============================] - 1s 2ms/step - loss: 0.6030 - accuracy: 0.7842\n",
      "Epoch 29/100\n",
      "936/936 [==============================] - 1s 2ms/step - loss: 0.5952 - accuracy: 0.7778\n",
      "Epoch 30/100\n",
      "936/936 [==============================] - 1s 2ms/step - loss: 0.5951 - accuracy: 0.7767\n",
      "Epoch 31/100\n",
      "936/936 [==============================] - 2s 2ms/step - loss: 0.5739 - accuracy: 0.7735\n",
      "Epoch 32/100\n",
      "936/936 [==============================] - 2s 2ms/step - loss: 0.5768 - accuracy: 0.7917\n",
      "Epoch 33/100\n",
      "936/936 [==============================] - 2s 2ms/step - loss: 0.5580 - accuracy: 0.7949\n",
      "Epoch 34/100\n",
      "936/936 [==============================] - 2s 2ms/step - loss: 0.5570 - accuracy: 0.7874\n",
      "Epoch 35/100\n",
      "936/936 [==============================] - 2s 2ms/step - loss: 0.5440 - accuracy: 0.7991\n",
      "Epoch 36/100\n",
      "936/936 [==============================] - 2s 2ms/step - loss: 0.5373 - accuracy: 0.8109\n",
      "Epoch 37/100\n",
      "936/936 [==============================] - 2s 2ms/step - loss: 0.5293 - accuracy: 0.8045\n",
      "Epoch 38/100\n",
      "936/936 [==============================] - 1s 2ms/step - loss: 0.5330 - accuracy: 0.8002\n",
      "Epoch 39/100\n",
      "936/936 [==============================] - 2s 2ms/step - loss: 0.5140 - accuracy: 0.8130\n",
      "Epoch 40/100\n",
      "936/936 [==============================] - 1s 2ms/step - loss: 0.5260 - accuracy: 0.8013\n",
      "Epoch 41/100\n",
      "936/936 [==============================] - 1s 1ms/step - loss: 0.5071 - accuracy: 0.8141\n",
      "Epoch 42/100\n",
      "936/936 [==============================] - 2s 2ms/step - loss: 0.5003 - accuracy: 0.8120\n",
      "Epoch 43/100\n",
      "936/936 [==============================] - 1s 1ms/step - loss: 0.4846 - accuracy: 0.8120\n",
      "Epoch 44/100\n",
      "936/936 [==============================] - 1s 2ms/step - loss: 0.4787 - accuracy: 0.8205\n",
      "Epoch 45/100\n",
      "936/936 [==============================] - 1s 2ms/step - loss: 0.4730 - accuracy: 0.8344\n",
      "Epoch 46/100\n",
      "936/936 [==============================] - 1s 1ms/step - loss: 0.4693 - accuracy: 0.8259\n",
      "Epoch 47/100\n",
      "936/936 [==============================] - 1s 2ms/step - loss: 0.4716 - accuracy: 0.8269\n",
      "Epoch 48/100\n",
      "936/936 [==============================] - 2s 2ms/step - loss: 0.4609 - accuracy: 0.8237\n",
      "Epoch 49/100\n",
      "936/936 [==============================] - 2s 2ms/step - loss: 0.4666 - accuracy: 0.8376\n",
      "Epoch 50/100\n",
      "936/936 [==============================] - 2s 2ms/step - loss: 0.4426 - accuracy: 0.8494\n",
      "Epoch 51/100\n",
      "936/936 [==============================] - 2s 2ms/step - loss: 0.4354 - accuracy: 0.8365\n",
      "Epoch 52/100\n",
      "936/936 [==============================] - 1s 1ms/step - loss: 0.4319 - accuracy: 0.8397\n",
      "Epoch 53/100\n",
      "936/936 [==============================] - 1s 2ms/step - loss: 0.4282 - accuracy: 0.8494\n",
      "Epoch 54/100\n",
      "936/936 [==============================] - 1s 2ms/step - loss: 0.4341 - accuracy: 0.8376\n",
      "Epoch 55/100\n",
      "936/936 [==============================] - 1s 2ms/step - loss: 0.4221 - accuracy: 0.8451\n",
      "Epoch 56/100\n",
      "936/936 [==============================] - 1s 1ms/step - loss: 0.4133 - accuracy: 0.8494\n",
      "Epoch 57/100\n",
      "936/936 [==============================] - 1s 1ms/step - loss: 0.4189 - accuracy: 0.8451\n",
      "Epoch 58/100\n",
      "936/936 [==============================] - 1s 1ms/step - loss: 0.4249 - accuracy: 0.8643\n",
      "Epoch 59/100\n",
      "936/936 [==============================] - 2s 2ms/step - loss: 0.3918 - accuracy: 0.8590\n",
      "Epoch 60/100\n",
      "936/936 [==============================] - 1s 1ms/step - loss: 0.4116 - accuracy: 0.8622\n",
      "Epoch 61/100\n",
      "936/936 [==============================] - 1s 2ms/step - loss: 0.3928 - accuracy: 0.8654\n",
      "Epoch 62/100\n",
      "936/936 [==============================] - 2s 3ms/step - loss: 0.3916 - accuracy: 0.8600\n",
      "Epoch 63/100\n",
      "936/936 [==============================] - 2s 2ms/step - loss: 0.3752 - accuracy: 0.8718\n",
      "Epoch 64/100\n",
      "936/936 [==============================] - 2s 2ms/step - loss: 0.3701 - accuracy: 0.8707\n",
      "Epoch 65/100\n",
      "936/936 [==============================] - 1s 2ms/step - loss: 0.3559 - accuracy: 0.8761\n",
      "Epoch 66/100\n",
      "936/936 [==============================] - 1s 1ms/step - loss: 0.3746 - accuracy: 0.8686\n",
      "Epoch 67/100\n",
      "936/936 [==============================] - 2s 2ms/step - loss: 0.3869 - accuracy: 0.8632\n",
      "Epoch 68/100\n",
      "936/936 [==============================] - 1s 1ms/step - loss: 0.3478 - accuracy: 0.8761\n",
      "Epoch 69/100\n",
      "936/936 [==============================] - 1s 2ms/step - loss: 0.3538 - accuracy: 0.8686\n",
      "Epoch 70/100\n",
      "936/936 [==============================] - 1s 1ms/step - loss: 0.3506 - accuracy: 0.8750\n",
      "Epoch 71/100\n",
      "936/936 [==============================] - 1s 2ms/step - loss: 0.3394 - accuracy: 0.8825\n",
      "Epoch 72/100\n",
      "936/936 [==============================] - 2s 2ms/step - loss: 0.3441 - accuracy: 0.8793\n",
      "Epoch 73/100\n",
      "936/936 [==============================] - 1s 2ms/step - loss: 0.3322 - accuracy: 0.8921\n",
      "Epoch 74/100\n",
      "936/936 [==============================] - 1s 2ms/step - loss: 0.3296 - accuracy: 0.8964\n",
      "Epoch 75/100\n",
      "936/936 [==============================] - 1s 2ms/step - loss: 0.3324 - accuracy: 0.8793\n",
      "Epoch 76/100\n",
      "936/936 [==============================] - 2s 2ms/step - loss: 0.3366 - accuracy: 0.8889\n",
      "Epoch 77/100\n",
      "936/936 [==============================] - 1s 2ms/step - loss: 0.3176 - accuracy: 0.8857\n",
      "Epoch 78/100\n",
      "936/936 [==============================] - 1s 1ms/step - loss: 0.3242 - accuracy: 0.8910\n",
      "Epoch 79/100\n",
      "936/936 [==============================] - 1s 1ms/step - loss: 0.3352 - accuracy: 0.8942\n",
      "Epoch 80/100\n",
      "936/936 [==============================] - 2s 2ms/step - loss: 0.3510 - accuracy: 0.8921\n",
      "Epoch 81/100\n",
      "936/936 [==============================] - 2s 2ms/step - loss: 0.3097 - accuracy: 0.8932\n",
      "Epoch 82/100\n",
      "936/936 [==============================] - 1s 1ms/step - loss: 0.3143 - accuracy: 0.8868\n",
      "Epoch 83/100\n",
      "936/936 [==============================] - 1s 1ms/step - loss: 0.3109 - accuracy: 0.8964\n",
      "Epoch 84/100\n",
      "936/936 [==============================] - 1s 2ms/step - loss: 0.2954 - accuracy: 0.8942\n",
      "Epoch 85/100\n",
      "936/936 [==============================] - 1s 2ms/step - loss: 0.2970 - accuracy: 0.9038\n",
      "Epoch 86/100\n",
      "936/936 [==============================] - 1s 2ms/step - loss: 0.2888 - accuracy: 0.9006\n",
      "Epoch 87/100\n",
      "936/936 [==============================] - 1s 2ms/step - loss: 0.2995 - accuracy: 0.8953\n",
      "Epoch 88/100\n",
      "936/936 [==============================] - 1s 2ms/step - loss: 0.3579 - accuracy: 0.8878\n",
      "Epoch 89/100\n",
      "936/936 [==============================] - 1s 2ms/step - loss: 0.2991 - accuracy: 0.8846\n",
      "Epoch 90/100\n",
      "936/936 [==============================] - 2s 2ms/step - loss: 0.2695 - accuracy: 0.9092\n",
      "Epoch 91/100\n",
      "936/936 [==============================] - 1s 2ms/step - loss: 0.2854 - accuracy: 0.9113\n",
      "Epoch 92/100\n",
      "936/936 [==============================] - 1s 2ms/step - loss: 0.2843 - accuracy: 0.9071\n",
      "Epoch 93/100\n",
      "936/936 [==============================] - 1s 2ms/step - loss: 0.2909 - accuracy: 0.9049\n",
      "Epoch 94/100\n",
      "936/936 [==============================] - 1s 2ms/step - loss: 0.2668 - accuracy: 0.9113\n",
      "Epoch 95/100\n",
      "936/936 [==============================] - 1s 1ms/step - loss: 0.2654 - accuracy: 0.9113\n",
      "Epoch 96/100\n",
      "936/936 [==============================] - 1s 2ms/step - loss: 0.2920 - accuracy: 0.8921\n",
      "Epoch 97/100\n",
      "936/936 [==============================] - 1s 1ms/step - loss: 0.2760 - accuracy: 0.9071\n",
      "Epoch 98/100\n",
      "936/936 [==============================] - 1s 1ms/step - loss: 0.2646 - accuracy: 0.9081\n",
      "Epoch 99/100\n",
      "936/936 [==============================] - 1s 1ms/step - loss: 0.2791 - accuracy: 0.9006\n",
      "Epoch 100/100\n",
      "936/936 [==============================] - 1s 1ms/step - loss: 0.2503 - accuracy: 0.9135\n"
     ]
    }
   ],
   "source": [
    "# Compile and fit the model with the numerical labels\n",
    "model.compile(optimizer='adam',\n",
    "              loss='sparse_categorical_crossentropy',\n",
    "              metrics=['accuracy'])\n",
    "\n",
    "training_history = model.fit(X_train, y_train_encoded, epochs=100, batch_size=1, verbose=1, use_multiprocessing=True)\n"
   ]
  },
  {
   "cell_type": "markdown",
   "metadata": {},
   "source": [
    "Guardamos el modelo para referencia a futuro."
   ]
  },
  {
   "cell_type": "code",
   "execution_count": 18,
   "metadata": {},
   "outputs": [
    {
     "name": "stderr",
     "output_type": "stream",
     "text": [
      "/home/jbaez/.local/lib/python3.11/site-packages/keras/src/engine/training.py:3000: UserWarning: You are saving your model as an HDF5 file via `model.save()`. This file format is considered legacy. We recommend using instead the native Keras format, e.g. `model.save('my_model.keras')`.\n",
      "  saving_api.save_model(\n"
     ]
    }
   ],
   "source": [
    "import datetime\n",
    "# Save model with the name \"model_\" + the current date and time as h5 file\n",
    "model.save(\"../models/model_data_per_second_\" + datetime.datetime.now().strftime(\"%Y%m%d%H%M%S\") + \".h5\")\n",
    "\n",
    "# model.save(\"model_data_per_second_202402020202.h5\")"
   ]
  },
  {
   "cell_type": "markdown",
   "metadata": {},
   "source": [
    "---\n",
    "\n",
    "## Training checkpoint! \n",
    "Arriba se guardo el modelo recientemente entrenado, salido del horno... Desde aca en adelante podemos cargarlo para revisarlo mejor. (o no, si ya estaba cargado)"
   ]
  },
  {
   "cell_type": "code",
   "execution_count": 20,
   "metadata": {},
   "outputs": [],
   "source": [
    "\n",
    "# import tensorflow as tf\n",
    "# from tensorflow import keras\n",
    "# # Load model\n",
    "# model = keras.models.load_model('../models/model_data_per_second_202402020202.h5')"
   ]
  },
  {
   "cell_type": "code",
   "execution_count": 21,
   "metadata": {},
   "outputs": [
    {
     "name": "stdout",
     "output_type": "stream",
     "text": [
      "8/8 [==============================] - 0s 2ms/step - loss: 2.5778 - accuracy: 0.6085\n"
     ]
    },
    {
     "data": {
      "text/plain": [
       "[2.5778214931488037, 0.6085106134414673]"
      ]
     },
     "execution_count": 21,
     "metadata": {},
     "output_type": "execute_result"
    }
   ],
   "source": [
    "from sklearn.preprocessing import LabelEncoder\n",
    "\n",
    "# Convert the target variable to numerical labels\n",
    "label_encoder = LabelEncoder()\n",
    "y_test_encoded = label_encoder.fit_transform(y_test)\n",
    "\n",
    "\n",
    "# Evaluate the model with the one-hot encoded target variable\n",
    "model.evaluate(X_test, y_test_encoded)\n"
   ]
  },
  {
   "cell_type": "markdown",
   "metadata": {},
   "source": [
    "Vemos que esta interpretacion base no se comporta del todo bien que digamos, un 60% de accuracy nada mas con el set de prueba. Igual podemos ver que capaz un problema que no corregimos fue la desproporcionalidad de muestras de cada evento en la celda superior. Podriamos emparejar los numeros de muestra para ver que tan bien se comporta esta red base. "
   ]
  },
  {
   "cell_type": "code",
   "execution_count": 23,
   "metadata": {},
   "outputs": [
    {
     "name": "stdout",
     "output_type": "stream",
     "text": [
      "8/8 [==============================] - 0s 2ms/step\n"
     ]
    },
    {
     "data": {
      "text/plain": [
       "<Axes: xlabel='True Label', ylabel='count'>"
      ]
     },
     "execution_count": 23,
     "metadata": {},
     "output_type": "execute_result"
    },
    {
     "data": {
      "image/png": "[encoded data removed]",
      "text/plain": [
       "<Figure size 1400x800 with 1 Axes>"
      ]
     },
     "metadata": {},
     "output_type": "display_data"
    }
   ],
   "source": [
    "import numpy as np\n",
    "\n",
    "# Get the predicted labels from the model\n",
    "y_pred = model.predict(X_test)\n",
    "\n",
    "# Convert the probabilities to class labels\n",
    "y_pred_labels = np.argmax(y_pred, axis=1)\n",
    "\n",
    "# Convert the encoded labels back to their original categories\n",
    "y_test_decoded = label_encoder.inverse_transform(y_test_encoded)\n",
    "y_pred_decoded = label_encoder.inverse_transform(y_pred_labels)\n",
    "\n",
    "# Create a DataFrame with the true labels and predicted labels\n",
    "results_df = pd.DataFrame({'True Label': y_test_decoded, 'Predicted Label': y_pred_decoded})\n",
    "\n",
    "# Add a column to indicate if the prediction was correct or incorrect\n",
    "results_df['Prediction'] = results_df['True Label'] == results_df['Predicted Label']\n",
    "\n",
    "# Plot the results using seaborn\n",
    "sns.countplot(x='True Label', hue='Prediction', data=results_df)\n"
   ]
  },
  {
   "cell_type": "code",
   "execution_count": 24,
   "metadata": {},
   "outputs": [
    {
     "data": {
      "image/png": "[encoded data removed]",
      "text/plain": [
       "<Figure size 1000x600 with 1 Axes>"
      ]
     },
     "metadata": {},
     "output_type": "display_data"
    }
   ],
   "source": [
    "import matplotlib.pyplot as plt\n",
    "import seaborn as sns\n",
    "\n",
    "# Calculate accuracy per class\n",
    "accuracy_per_class = results_df['True Label'] == results_df['Predicted Label']\n",
    "accuracy_per_class = accuracy_per_class.groupby(results_df['True Label']).mean()\n",
    "\n",
    "# Plot the graph\n",
    "plt.figure(figsize=(10, 6))\n",
    "sns.barplot(x=accuracy_per_class.index, y=accuracy_per_class.values)\n",
    "plt.axhline(y=0.5, color='red', linestyle='--')\n",
    "\n",
    "plt.title('Accuracy per Class')\n",
    "plt.xlabel('Class')\n",
    "plt.ylabel('Accuracy')\n",
    "plt.show()\n"
   ]
  }
 ],
 "metadata": {
  "kernelspec": {
   "display_name": "Python 3",
   "language": "python",
   "name": "python3"
  },
  "language_info": {
   "codemirror_mode": {
    "name": "ipython",
    "version": 3
   },
   "file_extension": ".py",
   "mimetype": "text/x-python",
   "name": "python",
   "nbconvert_exporter": "python",
   "pygments_lexer": "ipython3",
   "version": "3.11.8"
  }
 },
 "nbformat": 4,
 "nbformat_minor": 4
}

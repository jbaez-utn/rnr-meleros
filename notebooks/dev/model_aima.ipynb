{
 "cells": [
  {
   "cell_type": "markdown",
   "metadata": {},
   "source": [
    "# Aprendizaje\n",
    "\n",
    "Ejemplos de implementacion de machine learning sobre distintos modelos basicos de redes neuronales clasicas para el caso de uso actual. Se busca tener modelos listos en models.py con parametros configurables para variar y entrenar y guardar con train.py\n",
    "\n",
    "## Modelo 0: Aprendizaje de Perceptron Simple \n",
    "Modelo muy basico de aprendizaje en el cual vamos a tener un perceptron simple conectado por pesos a la salida que en este caso seria el comportamiento que puede llegar a tener el animal.\n",
    "\n"
   ]
  },
  {
   "cell_type": "markdown",
   "metadata": {},
   "source": [
    "![perceptron](../../img/perceptron.png)"
   ]
  },
  {
   "cell_type": "code",
   "execution_count": 1,
   "metadata": {},
   "outputs": [
    {
     "name": "stderr",
     "output_type": "stream",
     "text": [
      "2024-01-17 01:43:36.681969: I tensorflow/tsl/cuda/cudart_stub.cc:28] Could not find cuda drivers on your machine, GPU will not be used.\n",
      "2024-01-17 01:43:36.751491: I tensorflow/tsl/cuda/cudart_stub.cc:28] Could not find cuda drivers on your machine, GPU will not be used.\n",
      "2024-01-17 01:43:36.755737: I tensorflow/core/platform/cpu_feature_guard.cc:182] This TensorFlow binary is optimized to use available CPU instructions in performance-critical operations.\n",
      "To enable the following instructions: AVX2 FMA, in other operations, rebuild TensorFlow with the appropriate compiler flags.\n",
      "2024-01-17 01:43:37.744517: W tensorflow/compiler/tf2tensorrt/utils/py_utils.cc:38] TF-TRT Warning: Could not find TensorRT\n"
     ]
    }
   ],
   "source": [
    "import os, sys\n",
    "sys.path = [os.path.abspath(\"../../libs/\")] + sys.path\n",
    "from learning import *\n",
    "from deep_learning4e import *\n"
   ]
  },
  {
   "cell_type": "markdown",
   "metadata": {},
   "source": [
    "Cargar el dataset usando el objeto dataset."
   ]
  },
  {
   "cell_type": "code",
   "execution_count": 2,
   "metadata": {},
   "outputs": [],
   "source": [
    "dataset_single_row = DataSet(name=\"resumen-comportamientos_Matilda_dataset_single_row\", attr_names='x y z ODBA Comportamiento')"
   ]
  },
  {
   "cell_type": "markdown",
   "metadata": {},
   "source": [
    "Revisar los valores cargados en el dataset."
   ]
  },
  {
   "cell_type": "code",
   "execution_count": 3,
   "metadata": {},
   "outputs": [
    {
     "name": "stdout",
     "output_type": "stream",
     "text": [
      "attrs: [0, 1, 2, 3, 4]\n",
      "attrnames (by default same as attrs): ['x', 'y', 'z', 'ODBA', 'Comportamiento']\n",
      "target: 4\n",
      "inputs: [0, 1, 2, 3]\n"
     ]
    }
   ],
   "source": [
    "print(\"attrs:\", dataset_single_row.attrs)\n",
    "print(\"attrnames (by default same as attrs):\", dataset_single_row.attr_names)\n",
    "print(\"target:\", dataset_single_row.target)\n",
    "print(\"inputs:\", dataset_single_row.inputs)"
   ]
  },
  {
   "cell_type": "markdown",
   "metadata": {},
   "source": [
    "Extraer los comportamientos presentes en la ultima columna y convertimos las clases a numeros"
   ]
  },
  {
   "cell_type": "code",
   "execution_count": 4,
   "metadata": {},
   "outputs": [
    {
     "name": "stdout",
     "output_type": "stream",
     "text": [
      "comportamientos: ['auto-acicalamiento', 'locomocion', 'TA', 'inmovil', 'exploracion', 'TD', 'alimentacion']\n"
     ]
    }
   ],
   "source": [
    "comportamientos = dataset_single_row.values[dataset_single_row.target]\n",
    "print(\"comportamientos:\", comportamientos)\n",
    "dataset_single_row.classes_to_numbers(comportamientos)"
   ]
  },
  {
   "cell_type": "markdown",
   "metadata": {},
   "source": [
    "Creamos nuestro perceptron learner usando la clase disponible en la libreria deep_learning4e.py-"
   ]
  },
  {
   "cell_type": "code",
   "execution_count": 17,
   "metadata": {},
   "outputs": [],
   "source": [
    "from deep_learning4e import PerceptronLearner\n",
    "\n",
    "pl = PerceptronLearner(dataset_single_row, epochs=500, l_rate=0.01, verbose=True, plot=True)"
   ]
  },
  {
   "cell_type": "markdown",
   "metadata": {},
   "source": [
    "Verificamos la red creada"
   ]
  },
  {
   "cell_type": "code",
   "execution_count": 9,
   "metadata": {},
   "outputs": [
    {
     "name": "stdout",
     "output_type": "stream",
     "text": [
      "[<deep_learning4e.InputLayer object at 0x7f5ba45cb450>, <deep_learning4e.DenseLayer object at 0x7f5ba45cb650>]\n"
     ]
    }
   ],
   "source": [
    "print(pl.raw_net)\n",
    "pl.verbose"
   ]
  },
  {
   "cell_type": "markdown",
   "metadata": {},
   "source": [
    "La entrenamos. "
   ]
  },
  {
   "cell_type": "code",
   "execution_count": 10,
   "metadata": {},
   "outputs": [
    {
     "ename": "TypeError",
     "evalue": "PerceptronLearner.fit() missing 2 required positional arguments: 'X' and 'y'",
     "output_type": "error",
     "traceback": [
      "\u001b[0;31m---------------------------------------------------------------------------\u001b[0m",
      "\u001b[0;31mTypeError\u001b[0m                                 Traceback (most recent call last)",
      "Cell \u001b[0;32mIn[10], line 1\u001b[0m\n\u001b[0;32m----> 1\u001b[0m \u001b[43mpl\u001b[49m\u001b[38;5;241;43m.\u001b[39;49m\u001b[43mfit\u001b[49m\u001b[43m(\u001b[49m\u001b[43m)\u001b[49m\n",
      "\u001b[0;31mTypeError\u001b[0m: PerceptronLearner.fit() missing 2 required positional arguments: 'X' and 'y'"
     ]
    }
   ],
   "source": [
    "pl.fit()\n"
   ]
  }
 ],
 "metadata": {
  "kernelspec": {
   "display_name": "Python 3",
   "language": "python",
   "name": "python3"
  },
  "language_info": {
   "codemirror_mode": {
    "name": "ipython",
    "version": 3
   },
   "file_extension": ".py",
   "mimetype": "text/x-python",
   "name": "python",
   "nbconvert_exporter": "python",
   "pygments_lexer": "ipython3",
   "version": "3.11.7"
  }
 },
 "nbformat": 4,
 "nbformat_minor": 2
}
